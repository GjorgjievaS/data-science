{
  "nbformat": 4,
  "nbformat_minor": 0,
  "metadata": {
    "colab": {
      "provenance": []
    },
    "kernelspec": {
      "name": "python3",
      "display_name": "Python 3"
    },
    "language_info": {
      "name": "python"
    }
  },
  "cells": [
    {
      "cell_type": "markdown",
      "source": [
        "<ul><font size = 5 color='Orange'>\n",
        "Learning Goals</font>\n",
        "<font color = 'Orange'>\n",
        "<ul>We are using the same dataset as the previous laboratory exercise, now you need to build Neural networks</ul>\n",
        "\n",
        "<li>Build three different networks with using:</li>\n",
        "different layers, activation functions, neurans per layers, number of layers\n",
        "<li>train your network and set the optimal number of epochs and batch size</li>\n",
        "<li>Evaluate the three networks on the same test dataset</li>\n",
        "<li>Compare the results</li>\n",
        "</ul>"
      ],
      "metadata": {
        "id": "wsPEypIyjSq-"
      }
    },
    {
      "cell_type": "code",
      "source": [
        "from google.colab import drive\n",
        "drive.mount('/content/drive')"
      ],
      "metadata": {
        "colab": {
          "base_uri": "https://localhost:8080/"
        },
        "id": "_c2Wo-BWNlev",
        "outputId": "15900567-23e6-4234-8edd-bba150b4ea8d"
      },
      "execution_count": null,
      "outputs": [
        {
          "output_type": "stream",
          "name": "stdout",
          "text": [
            "Mounted at /content/drive\n"
          ]
        }
      ]
    },
    {
      "cell_type": "markdown",
      "source": [
        "The Dataset for this exercise depends on your index number i.e number_of_data_set = index % 10:\n",
        "\n",
        "\n",
        "0.  https://www.kaggle.com/tunguz/us-elections-dataset\n",
        "1.  https://www.kaggle.com/andrewmvd/heart-failure-clinical-data\n",
        "2.  https://www.kaggle.com/sootersaalu/amazon-top-50-bestselling-books-2009-2019\n",
        "3.  https://www.kaggle.com/anmolkumar/health-insurance-cross-sell-prediction\n",
        "4.  https://www.kaggle.com/uciml/red-wine-quality-cortez-et-al-2009\n",
        "5.  https://www.kaggle.com/anmolkumar/house-price-prediction-challenge\n",
        "6.  https://www.kaggle.com/datasets/tadhgfitzgerald/fifa-international-soccer-mens-ranking-1993now\n",
        "7.  https://www.kaggle.com/arslanali4343/real-estate-dataset\n",
        "8.  https://www.kaggle.com/terenceshin/covid19s-impact-on-airport-traffic\n",
        "9.  https://www.kaggle.com/arslanali4343/top-personality-dataset\n",
        "\n",
        "\n",
        "\n",
        "\n",
        "\n"
      ],
      "metadata": {
        "id": "qO5SWztjhay0"
      }
    },
    {
      "cell_type": "markdown",
      "source": [
        " NEURAL NETWORKS "
      ],
      "metadata": {
        "id": "2RG2ZXY1n7jl"
      }
    },
    {
      "cell_type": "code",
      "source": [
        "import pandas as pd\n",
        "\n",
        "data = pd.read_csv('/content/drive/MyDrive/Data Science/lab/lab3/train.csv')\n",
        "data.head()"
      ],
      "metadata": {
        "id": "WORtycj8iCA8",
        "colab": {
          "base_uri": "https://localhost:8080/",
          "height": 302
        },
        "outputId": "b037d4aa-ea63-4be5-fe3e-b9a45ec25979"
      },
      "execution_count": null,
      "outputs": [
        {
          "output_type": "execute_result",
          "data": {
            "text/plain": [
              "  POSTED_BY  UNDER_CONSTRUCTION  RERA  BHK_NO. BHK_OR_RK    SQUARE_FT  \\\n",
              "0     Owner                   0     0        2       BHK  1300.236407   \n",
              "1    Dealer                   0     0        2       BHK  1275.000000   \n",
              "2     Owner                   0     0        2       BHK   933.159722   \n",
              "3     Owner                   0     1        2       BHK   929.921143   \n",
              "4    Dealer                   1     0        2       BHK   999.009247   \n",
              "\n",
              "   READY_TO_MOVE  RESALE                      ADDRESS  LONGITUDE   LATITUDE  \\\n",
              "0              1       1        Ksfc Layout,Bangalore  12.969910  77.597960   \n",
              "1              1       1    Vishweshwara Nagar,Mysore  12.274538  76.644605   \n",
              "2              1       1             Jigani,Bangalore  12.778033  77.632191   \n",
              "3              1       1  Sector-1 Vaishali,Ghaziabad  28.642300  77.344500   \n",
              "4              0       1             New Town,Kolkata  22.592200  88.484911   \n",
              "\n",
              "   TARGET(PRICE_IN_LACS)  \n",
              "0                   55.0  \n",
              "1                   51.0  \n",
              "2                   43.0  \n",
              "3                   62.5  \n",
              "4                   60.5  "
            ],
            "text/html": [
              "\n",
              "  <div id=\"df-a705778f-8c96-4eb1-88ea-011872c4f990\">\n",
              "    <div class=\"colab-df-container\">\n",
              "      <div>\n",
              "<style scoped>\n",
              "    .dataframe tbody tr th:only-of-type {\n",
              "        vertical-align: middle;\n",
              "    }\n",
              "\n",
              "    .dataframe tbody tr th {\n",
              "        vertical-align: top;\n",
              "    }\n",
              "\n",
              "    .dataframe thead th {\n",
              "        text-align: right;\n",
              "    }\n",
              "</style>\n",
              "<table border=\"1\" class=\"dataframe\">\n",
              "  <thead>\n",
              "    <tr style=\"text-align: right;\">\n",
              "      <th></th>\n",
              "      <th>POSTED_BY</th>\n",
              "      <th>UNDER_CONSTRUCTION</th>\n",
              "      <th>RERA</th>\n",
              "      <th>BHK_NO.</th>\n",
              "      <th>BHK_OR_RK</th>\n",
              "      <th>SQUARE_FT</th>\n",
              "      <th>READY_TO_MOVE</th>\n",
              "      <th>RESALE</th>\n",
              "      <th>ADDRESS</th>\n",
              "      <th>LONGITUDE</th>\n",
              "      <th>LATITUDE</th>\n",
              "      <th>TARGET(PRICE_IN_LACS)</th>\n",
              "    </tr>\n",
              "  </thead>\n",
              "  <tbody>\n",
              "    <tr>\n",
              "      <th>0</th>\n",
              "      <td>Owner</td>\n",
              "      <td>0</td>\n",
              "      <td>0</td>\n",
              "      <td>2</td>\n",
              "      <td>BHK</td>\n",
              "      <td>1300.236407</td>\n",
              "      <td>1</td>\n",
              "      <td>1</td>\n",
              "      <td>Ksfc Layout,Bangalore</td>\n",
              "      <td>12.969910</td>\n",
              "      <td>77.597960</td>\n",
              "      <td>55.0</td>\n",
              "    </tr>\n",
              "    <tr>\n",
              "      <th>1</th>\n",
              "      <td>Dealer</td>\n",
              "      <td>0</td>\n",
              "      <td>0</td>\n",
              "      <td>2</td>\n",
              "      <td>BHK</td>\n",
              "      <td>1275.000000</td>\n",
              "      <td>1</td>\n",
              "      <td>1</td>\n",
              "      <td>Vishweshwara Nagar,Mysore</td>\n",
              "      <td>12.274538</td>\n",
              "      <td>76.644605</td>\n",
              "      <td>51.0</td>\n",
              "    </tr>\n",
              "    <tr>\n",
              "      <th>2</th>\n",
              "      <td>Owner</td>\n",
              "      <td>0</td>\n",
              "      <td>0</td>\n",
              "      <td>2</td>\n",
              "      <td>BHK</td>\n",
              "      <td>933.159722</td>\n",
              "      <td>1</td>\n",
              "      <td>1</td>\n",
              "      <td>Jigani,Bangalore</td>\n",
              "      <td>12.778033</td>\n",
              "      <td>77.632191</td>\n",
              "      <td>43.0</td>\n",
              "    </tr>\n",
              "    <tr>\n",
              "      <th>3</th>\n",
              "      <td>Owner</td>\n",
              "      <td>0</td>\n",
              "      <td>1</td>\n",
              "      <td>2</td>\n",
              "      <td>BHK</td>\n",
              "      <td>929.921143</td>\n",
              "      <td>1</td>\n",
              "      <td>1</td>\n",
              "      <td>Sector-1 Vaishali,Ghaziabad</td>\n",
              "      <td>28.642300</td>\n",
              "      <td>77.344500</td>\n",
              "      <td>62.5</td>\n",
              "    </tr>\n",
              "    <tr>\n",
              "      <th>4</th>\n",
              "      <td>Dealer</td>\n",
              "      <td>1</td>\n",
              "      <td>0</td>\n",
              "      <td>2</td>\n",
              "      <td>BHK</td>\n",
              "      <td>999.009247</td>\n",
              "      <td>0</td>\n",
              "      <td>1</td>\n",
              "      <td>New Town,Kolkata</td>\n",
              "      <td>22.592200</td>\n",
              "      <td>88.484911</td>\n",
              "      <td>60.5</td>\n",
              "    </tr>\n",
              "  </tbody>\n",
              "</table>\n",
              "</div>\n",
              "      <button class=\"colab-df-convert\" onclick=\"convertToInteractive('df-a705778f-8c96-4eb1-88ea-011872c4f990')\"\n",
              "              title=\"Convert this dataframe to an interactive table.\"\n",
              "              style=\"display:none;\">\n",
              "        \n",
              "  <svg xmlns=\"http://www.w3.org/2000/svg\" height=\"24px\"viewBox=\"0 0 24 24\"\n",
              "       width=\"24px\">\n",
              "    <path d=\"M0 0h24v24H0V0z\" fill=\"none\"/>\n",
              "    <path d=\"M18.56 5.44l.94 2.06.94-2.06 2.06-.94-2.06-.94-.94-2.06-.94 2.06-2.06.94zm-11 1L8.5 8.5l.94-2.06 2.06-.94-2.06-.94L8.5 2.5l-.94 2.06-2.06.94zm10 10l.94 2.06.94-2.06 2.06-.94-2.06-.94-.94-2.06-.94 2.06-2.06.94z\"/><path d=\"M17.41 7.96l-1.37-1.37c-.4-.4-.92-.59-1.43-.59-.52 0-1.04.2-1.43.59L10.3 9.45l-7.72 7.72c-.78.78-.78 2.05 0 2.83L4 21.41c.39.39.9.59 1.41.59.51 0 1.02-.2 1.41-.59l7.78-7.78 2.81-2.81c.8-.78.8-2.07 0-2.86zM5.41 20L4 18.59l7.72-7.72 1.47 1.35L5.41 20z\"/>\n",
              "  </svg>\n",
              "      </button>\n",
              "      \n",
              "  <style>\n",
              "    .colab-df-container {\n",
              "      display:flex;\n",
              "      flex-wrap:wrap;\n",
              "      gap: 12px;\n",
              "    }\n",
              "\n",
              "    .colab-df-convert {\n",
              "      background-color: #E8F0FE;\n",
              "      border: none;\n",
              "      border-radius: 50%;\n",
              "      cursor: pointer;\n",
              "      display: none;\n",
              "      fill: #1967D2;\n",
              "      height: 32px;\n",
              "      padding: 0 0 0 0;\n",
              "      width: 32px;\n",
              "    }\n",
              "\n",
              "    .colab-df-convert:hover {\n",
              "      background-color: #E2EBFA;\n",
              "      box-shadow: 0px 1px 2px rgba(60, 64, 67, 0.3), 0px 1px 3px 1px rgba(60, 64, 67, 0.15);\n",
              "      fill: #174EA6;\n",
              "    }\n",
              "\n",
              "    [theme=dark] .colab-df-convert {\n",
              "      background-color: #3B4455;\n",
              "      fill: #D2E3FC;\n",
              "    }\n",
              "\n",
              "    [theme=dark] .colab-df-convert:hover {\n",
              "      background-color: #434B5C;\n",
              "      box-shadow: 0px 1px 3px 1px rgba(0, 0, 0, 0.15);\n",
              "      filter: drop-shadow(0px 1px 2px rgba(0, 0, 0, 0.3));\n",
              "      fill: #FFFFFF;\n",
              "    }\n",
              "  </style>\n",
              "\n",
              "      <script>\n",
              "        const buttonEl =\n",
              "          document.querySelector('#df-a705778f-8c96-4eb1-88ea-011872c4f990 button.colab-df-convert');\n",
              "        buttonEl.style.display =\n",
              "          google.colab.kernel.accessAllowed ? 'block' : 'none';\n",
              "\n",
              "        async function convertToInteractive(key) {\n",
              "          const element = document.querySelector('#df-a705778f-8c96-4eb1-88ea-011872c4f990');\n",
              "          const dataTable =\n",
              "            await google.colab.kernel.invokeFunction('convertToInteractive',\n",
              "                                                     [key], {});\n",
              "          if (!dataTable) return;\n",
              "\n",
              "          const docLinkHtml = 'Like what you see? Visit the ' +\n",
              "            '<a target=\"_blank\" href=https://colab.research.google.com/notebooks/data_table.ipynb>data table notebook</a>'\n",
              "            + ' to learn more about interactive tables.';\n",
              "          element.innerHTML = '';\n",
              "          dataTable['output_type'] = 'display_data';\n",
              "          await google.colab.output.renderOutput(dataTable, element);\n",
              "          const docLink = document.createElement('div');\n",
              "          docLink.innerHTML = docLinkHtml;\n",
              "          element.appendChild(docLink);\n",
              "        }\n",
              "      </script>\n",
              "    </div>\n",
              "  </div>\n",
              "  "
            ]
          },
          "metadata": {},
          "execution_count": 2
        }
      ]
    },
    {
      "cell_type": "code",
      "source": [
        "data.drop(['BHK_OR_RK'], axis=1,inplace=True)"
      ],
      "metadata": {
        "id": "uGcMOraMTHku"
      },
      "execution_count": null,
      "outputs": []
    },
    {
      "cell_type": "code",
      "source": [
        "data.dropna(axis=0,inplace=True)"
      ],
      "metadata": {
        "id": "Lx2hoBa-UI8S"
      },
      "execution_count": null,
      "outputs": []
    },
    {
      "cell_type": "code",
      "source": [
        "#ORDINAL ENCODER [POSTED_BY and ADRESS]\n",
        "from sklearn.preprocessing import OrdinalEncoder\n",
        "\n",
        "\n",
        "encoder = OrdinalEncoder()\n",
        "encoder.fit(data.iloc[:,[0,7]])\n",
        "data.iloc[:,[0,7]] = encoder.transform(data.iloc[:,[0,7]])"
      ],
      "metadata": {
        "id": "C38DmcYnTggp"
      },
      "execution_count": null,
      "outputs": []
    },
    {
      "cell_type": "code",
      "execution_count": null,
      "metadata": {
        "id": "tNi3STyahTOf"
      },
      "outputs": [],
      "source": [
        "import numpy as np\n",
        "\n",
        "\n",
        "X=np.asarray(data.drop('TARGET(PRICE_IN_LACS)',axis=1))\n",
        "Y=np.asarray(data['TARGET(PRICE_IN_LACS)'])"
      ]
    },
    {
      "cell_type": "code",
      "source": [
        "from sklearn.model_selection import train_test_split\n",
        "\n",
        "X_train, X_test, Y_train, Y_test = train_test_split(X, Y, test_size = 0.2, random_state = 0)"
      ],
      "metadata": {
        "id": "miq20E2SSvGm"
      },
      "execution_count": null,
      "outputs": []
    },
    {
      "cell_type": "code",
      "source": [
        "X_train"
      ],
      "metadata": {
        "colab": {
          "base_uri": "https://localhost:8080/"
        },
        "id": "-qIk1pPjTkoW",
        "outputId": "011c2744-e4b4-4c61-d077-07859f4b7bb9"
      },
      "execution_count": null,
      "outputs": [
        {
          "output_type": "execute_result",
          "data": {
            "text/plain": [
              "array([[1.0000000e+00, 0.0000000e+00, 1.0000000e+00, ..., 6.6150000e+03,\n",
              "        2.4690280e+01, 7.8418890e+01],\n",
              "       [1.0000000e+00, 1.0000000e+00, 1.0000000e+00, ..., 8.7100000e+02,\n",
              "        1.3054202e+01, 7.7674002e+01],\n",
              "       [1.0000000e+00, 1.0000000e+00, 1.0000000e+00, ..., 1.0340000e+03,\n",
              "        2.4690280e+01, 7.8418890e+01],\n",
              "       ...,\n",
              "       [2.0000000e+00, 0.0000000e+00, 0.0000000e+00, ..., 6.4280000e+03,\n",
              "        2.2288976e+01, 7.3128222e+01],\n",
              "       [2.0000000e+00, 0.0000000e+00, 1.0000000e+00, ..., 5.4510000e+03,\n",
              "        2.8567633e+01, 7.7383124e+01],\n",
              "       [1.0000000e+00, 1.0000000e+00, 1.0000000e+00, ..., 5.1860000e+03,\n",
              "        2.8429614e+01, 7.7481711e+01]])"
            ]
          },
          "metadata": {},
          "execution_count": 8
        }
      ]
    },
    {
      "cell_type": "code",
      "source": [
        "from sklearn.preprocessing import StandardScaler\n",
        "\n",
        "sc = StandardScaler()\n",
        "X_train = sc.fit_transform(X_train)\n",
        "X_test = sc.transform(X_test)"
      ],
      "metadata": {
        "id": "qDoHk5kNSyZo"
      },
      "execution_count": null,
      "outputs": []
    },
    {
      "cell_type": "code",
      "source": [
        "#   Regression Model\n",
        "#  Define Keras Model\n",
        "# First\n",
        "from keras.models import Sequential\n",
        "from keras.layers import Dense\n",
        "from keras.layers import Dropout\n",
        "\n",
        "model = Sequential()\n",
        "\n",
        "model.add(Dense(16, input_dim=10, activation='relu'))\n",
        "\n",
        "model.add(Dropout(0.2, input_shape=(16,)))\n",
        "\n",
        "model.add(Dense(8, activation='relu'))\n",
        "\n",
        "model.add(Dropout(0.2, input_shape=(8,)))\n",
        "\n",
        "model.add(Dense(1, activation='linear'))"
      ],
      "metadata": {
        "id": "JCD6RjAUUl78"
      },
      "execution_count": null,
      "outputs": []
    },
    {
      "cell_type": "code",
      "source": [
        "# Compile Keras Model\n",
        "model.compile(loss='mean_squared_error', optimizer='adam')"
      ],
      "metadata": {
        "id": "8CLxJaAeUxRC"
      },
      "execution_count": null,
      "outputs": []
    },
    {
      "cell_type": "code",
      "source": [
        "X_train.shape"
      ],
      "metadata": {
        "colab": {
          "base_uri": "https://localhost:8080/"
        },
        "id": "w98W8CDuWgFj",
        "outputId": "6b825e67-618b-49ce-9131-f30caa65f16a"
      },
      "execution_count": null,
      "outputs": [
        {
          "output_type": "execute_result",
          "data": {
            "text/plain": [
              "(23560, 10)"
            ]
          },
          "metadata": {},
          "execution_count": 12
        }
      ]
    },
    {
      "cell_type": "code",
      "source": [
        "Y_train.shape"
      ],
      "metadata": {
        "colab": {
          "base_uri": "https://localhost:8080/"
        },
        "id": "-YcG5zM8Wjjn",
        "outputId": "3f92dcb1-2972-4791-8e8d-cc528cc50ecc"
      },
      "execution_count": null,
      "outputs": [
        {
          "output_type": "execute_result",
          "data": {
            "text/plain": [
              "(23560,)"
            ]
          },
          "metadata": {},
          "execution_count": 13
        }
      ]
    },
    {
      "cell_type": "code",
      "source": [
        "# Fit Keras Model\n",
        "history = model.fit(X_train, Y_train, epochs=20, batch_size=100,  verbose=1, validation_split=0.2)"
      ],
      "metadata": {
        "colab": {
          "base_uri": "https://localhost:8080/"
        },
        "id": "3sq1De6LU44u",
        "outputId": "e4a781d0-4d2e-4d93-a531-b343a6c248e1"
      },
      "execution_count": null,
      "outputs": [
        {
          "output_type": "stream",
          "name": "stdout",
          "text": [
            "Epoch 1/20\n",
            "189/189 [==============================] - 1s 3ms/step - loss: 461844.3750 - val_loss: 377160.5000\n",
            "Epoch 2/20\n",
            "189/189 [==============================] - 1s 3ms/step - loss: 460665.1562 - val_loss: 375006.5000\n",
            "Epoch 3/20\n",
            "189/189 [==============================] - 1s 3ms/step - loss: 457188.2812 - val_loss: 370536.1250\n",
            "Epoch 4/20\n",
            "189/189 [==============================] - 1s 4ms/step - loss: 450315.2188 - val_loss: 363634.1562\n",
            "Epoch 5/20\n",
            "189/189 [==============================] - 1s 5ms/step - loss: 442197.2500 - val_loss: 355399.1875\n",
            "Epoch 6/20\n",
            "189/189 [==============================] - 1s 5ms/step - loss: 432518.6250 - val_loss: 347002.1562\n",
            "Epoch 7/20\n",
            "189/189 [==============================] - 1s 5ms/step - loss: 426009.9375 - val_loss: 341864.4062\n",
            "Epoch 8/20\n",
            "189/189 [==============================] - 1s 4ms/step - loss: 419243.9375 - val_loss: 338292.3125\n",
            "Epoch 9/20\n",
            "189/189 [==============================] - 1s 4ms/step - loss: 419247.6250 - val_loss: 336403.4688\n",
            "Epoch 10/20\n",
            "189/189 [==============================] - 1s 4ms/step - loss: 416990.5938 - val_loss: 335233.6562\n",
            "Epoch 11/20\n",
            "189/189 [==============================] - 1s 4ms/step - loss: 412142.6250 - val_loss: 334262.9688\n",
            "Epoch 12/20\n",
            "189/189 [==============================] - 1s 3ms/step - loss: 407948.0938 - val_loss: 333585.0938\n",
            "Epoch 13/20\n",
            "189/189 [==============================] - 1s 5ms/step - loss: 410740.2188 - val_loss: 333051.6250\n",
            "Epoch 14/20\n",
            "189/189 [==============================] - 1s 4ms/step - loss: 407657.0000 - val_loss: 332553.6875\n",
            "Epoch 15/20\n",
            "189/189 [==============================] - 1s 4ms/step - loss: 409227.5312 - val_loss: 332171.4375\n",
            "Epoch 16/20\n",
            "189/189 [==============================] - 1s 3ms/step - loss: 404562.3125 - val_loss: 331804.4062\n",
            "Epoch 17/20\n",
            "189/189 [==============================] - 1s 4ms/step - loss: 405891.5938 - val_loss: 331469.5938\n",
            "Epoch 18/20\n",
            "189/189 [==============================] - 1s 5ms/step - loss: 400781.0312 - val_loss: 331169.6250\n",
            "Epoch 19/20\n",
            "189/189 [==============================] - 1s 3ms/step - loss: 405531.0625 - val_loss: 330876.1562\n",
            "Epoch 20/20\n",
            "189/189 [==============================] - 1s 4ms/step - loss: 399326.5000 - val_loss: 330638.4688\n"
          ]
        }
      ]
    },
    {
      "cell_type": "code",
      "source": [
        "#  Evaluate Keras Model\n",
        "# \"Loss\"\n",
        "import matplotlib.pyplot as plt\n",
        "\n",
        "plt.plot(history.history['loss'])\n",
        "plt.plot(history.history['val_loss'])\n",
        "plt.title('model loss')\n",
        "plt.ylabel('loss')\n",
        "plt.xlabel('epoch')\n",
        "plt.legend(['train', 'validation'], loc='upper left')\n",
        "plt.show()"
      ],
      "metadata": {
        "colab": {
          "base_uri": "https://localhost:8080/",
          "height": 295
        },
        "id": "iWZFbqnBVKU2",
        "outputId": "802213ba-ee17-4273-d023-9c9b56d5c593"
      },
      "execution_count": null,
      "outputs": [
        {
          "output_type": "display_data",
          "data": {
            "text/plain": [
              "<Figure size 432x288 with 1 Axes>"
            ],
            "image/png": "[encoded data removed]"
          },
          "metadata": {
            "needs_background": "light"
          }
        }
      ]
    },
    {
      "cell_type": "code",
      "source": [
        "y_pred = model.predict(X_test)\n",
        "y_pred = y_pred.round(1)\n",
        "y_pred"
      ],
      "metadata": {
        "colab": {
          "base_uri": "https://localhost:8080/"
        },
        "id": "3rUC9ZD4U6xE",
        "outputId": "4580532e-2b95-4a62-cc1d-ba34a9423187"
      },
      "execution_count": null,
      "outputs": [
        {
          "output_type": "stream",
          "name": "stdout",
          "text": [
            "185/185 [==============================] - 1s 3ms/step\n"
          ]
        },
        {
          "output_type": "execute_result",
          "data": {
            "text/plain": [
              "array([[272.5],\n",
              "       [ 28.9],\n",
              "       [ 44.7],\n",
              "       ...,\n",
              "       [ 76.3],\n",
              "       [ 10.3],\n",
              "       [115.6]], dtype=float32)"
            ]
          },
          "metadata": {},
          "execution_count": 18
        }
      ]
    },
    {
      "cell_type": "code",
      "source": [
        "#Visualising the Acutal and predicted Result\n",
        "plt.plot(Y_test, color = 'green', label = 'Actual')\n",
        "plt.plot(y_pred, color = 'blue', label = 'Predicted')\n",
        "plt.grid(alpha = 0.3)\n",
        "plt.title('Actual vs Predicted')\n",
        "plt.legend()\n",
        "plt.show()"
      ],
      "metadata": {
        "colab": {
          "base_uri": "https://localhost:8080/",
          "height": 281
        },
        "id": "XCwM1-Y3Yi-d",
        "outputId": "cf876840-c77b-4397-b327-bd1b17062f82"
      },
      "execution_count": null,
      "outputs": [
        {
          "output_type": "display_data",
          "data": {
            "text/plain": [
              "<Figure size 432x288 with 1 Axes>"
            ],
            "image/png": "[encoded data removed]"
          },
          "metadata": {
            "needs_background": "light"
          }
        }
      ]
    },
    {
      "cell_type": "code",
      "source": [
        "from sklearn.metrics import r2_score\n",
        "print(\"r_square score: \", r2_score(Y_test,y_pred))"
      ],
      "metadata": {
        "colab": {
          "base_uri": "https://localhost:8080/"
        },
        "id": "tdcxGNDBZa6P",
        "outputId": "ae6de92a-321b-4653-fe36-aa43cf3cfa75"
      },
      "execution_count": null,
      "outputs": [
        {
          "output_type": "stream",
          "name": "stdout",
          "text": [
            "r_square score:  0.13221704792507605\n"
          ]
        }
      ]
    },
    {
      "cell_type": "code",
      "source": [
        "#Second \n",
        "\n",
        "import pandas as pd\n",
        "\n",
        "data = pd.read_csv('/content/drive/MyDrive/Data Science/lab/lab3/train.csv')\n",
        "data.head()\n",
        "\n",
        "data.drop(['BHK_OR_RK'], axis=1,inplace=True)\n",
        "data.dropna(axis=0,inplace=True)\n",
        "\n",
        "#ORDINAL ENCODER [POSTED_BY and ADRESS]\n",
        "from sklearn.preprocessing import OrdinalEncoder\n",
        "\n",
        "encoder = OrdinalEncoder()\n",
        "encoder.fit(data.iloc[:,[0,7]])\n",
        "data.iloc[:,[0,7]] = encoder.transform(data.iloc[:,[0,7]])\n",
        "\n",
        "\n",
        "from sklearn.model_selection import train_test_split\n",
        "\n",
        "X_train, X_test, Y_train, Y_test = train_test_split(\n",
        "    data[data.columns[:-1]],  data['TARGET(PRICE_IN_LACS)'], test_size=0.2, random_state=1)\n",
        "print(X_train.shape, X_test.shape, Y_train.shape, Y_test.shape)"
      ],
      "metadata": {
        "colab": {
          "base_uri": "https://localhost:8080/"
        },
        "id": "DQ0hU2iL-atY",
        "outputId": "e4d12479-eb22-4e13-c639-1cddfc9df858"
      },
      "execution_count": null,
      "outputs": [
        {
          "output_type": "stream",
          "name": "stdout",
          "text": [
            "(23560, 10) (5891, 10) (23560,) (5891,)\n"
          ]
        }
      ]
    },
    {
      "cell_type": "code",
      "source": [
        "model = Sequential()\n",
        "\n",
        "model.add(Dense(216, input_dim=10, kernel_initializer='normal', activation='relu'))\n",
        "model.add(Dense(512,kernel_initializer = 'normal', activation='relu'))\n",
        "model.add(Dense(512,kernel_initializer = 'normal', activation='relu'))\n",
        "model.add(Dense(512,kernel_initializer = 'normal', activation='relu'))\n",
        "\n",
        "model.add(Dense(1, activation='linear'))\n",
        "model.summary()"
      ],
      "metadata": {
        "colab": {
          "base_uri": "https://localhost:8080/"
        },
        "id": "w2uWkLoaw2CN",
        "outputId": "63ef8158-55bf-4703-9103-264dd7d2d748"
      },
      "execution_count": null,
      "outputs": [
        {
          "output_type": "stream",
          "name": "stdout",
          "text": [
            "Model: \"sequential_1\"\n",
            "_________________________________________________________________\n",
            " Layer (type)                Output Shape              Param #   \n",
            "=================================================================\n",
            " dense_3 (Dense)             (None, 216)               2376      \n",
            "                                                                 \n",
            " dense_4 (Dense)             (None, 512)               111104    \n",
            "                                                                 \n",
            " dense_5 (Dense)             (None, 512)               262656    \n",
            "                                                                 \n",
            " dense_6 (Dense)             (None, 512)               262656    \n",
            "                                                                 \n",
            " dense_7 (Dense)             (None, 1)                 513       \n",
            "                                                                 \n",
            "=================================================================\n",
            "Total params: 639,305\n",
            "Trainable params: 639,305\n",
            "Non-trainable params: 0\n",
            "_________________________________________________________________\n"
          ]
        }
      ]
    },
    {
      "cell_type": "code",
      "source": [
        "X_train.shape"
      ],
      "metadata": {
        "colab": {
          "base_uri": "https://localhost:8080/"
        },
        "id": "JuDLUa4B87Es",
        "outputId": "477f14bc-32d9-402a-d6f7-1a4fd6756d3f"
      },
      "execution_count": null,
      "outputs": [
        {
          "output_type": "execute_result",
          "data": {
            "text/plain": [
              "(23560, 10)"
            ]
          },
          "metadata": {},
          "execution_count": 23
        }
      ]
    },
    {
      "cell_type": "code",
      "source": [
        "model.compile(loss='mae', optimizer='adam')"
      ],
      "metadata": {
        "id": "II3d1nbN5k3Y"
      },
      "execution_count": null,
      "outputs": []
    },
    {
      "cell_type": "code",
      "source": [
        "# Fit Keras Model\n",
        "history = model.fit(X_train, Y_train, epochs=30, batch_size=250,  verbose=1, validation_split=0.2)"
      ],
      "metadata": {
        "colab": {
          "base_uri": "https://localhost:8080/"
        },
        "id": "h6OX-gyT5nZ9",
        "outputId": "d4d35e52-0553-41df-dca3-f577343929d2"
      },
      "execution_count": null,
      "outputs": [
        {
          "output_type": "stream",
          "name": "stdout",
          "text": [
            "Epoch 1/30\n",
            "76/76 [==============================] - 3s 28ms/step - loss: 378.6604 - val_loss: 584.7048\n",
            "Epoch 2/30\n",
            "76/76 [==============================] - 2s 26ms/step - loss: 856.3627 - val_loss: 374.4022\n",
            "Epoch 3/30\n",
            "76/76 [==============================] - 2s 25ms/step - loss: 1010.8311 - val_loss: 101.7570\n",
            "Epoch 4/30\n",
            "76/76 [==============================] - 2s 25ms/step - loss: 754.3484 - val_loss: 519.8818\n",
            "Epoch 5/30\n",
            "76/76 [==============================] - 2s 26ms/step - loss: 289.5666 - val_loss: 1224.9208\n",
            "Epoch 6/30\n",
            "76/76 [==============================] - 2s 26ms/step - loss: 206.3989 - val_loss: 3092.1267\n",
            "Epoch 7/30\n",
            "76/76 [==============================] - 2s 25ms/step - loss: 852.9161 - val_loss: 1132.1996\n",
            "Epoch 8/30\n",
            "76/76 [==============================] - 2s 25ms/step - loss: 1087.3397 - val_loss: 2102.5862\n",
            "Epoch 9/30\n",
            "76/76 [==============================] - 2s 25ms/step - loss: 912.7937 - val_loss: 2094.5774\n",
            "Epoch 10/30\n",
            "76/76 [==============================] - 2s 25ms/step - loss: 784.6594 - val_loss: 1158.3794\n",
            "Epoch 11/30\n",
            "76/76 [==============================] - 2s 26ms/step - loss: 1136.0581 - val_loss: 2479.2722\n",
            "Epoch 12/30\n",
            "76/76 [==============================] - 2s 26ms/step - loss: 738.7606 - val_loss: 177.5314\n",
            "Epoch 13/30\n",
            "76/76 [==============================] - 2s 26ms/step - loss: 233.2719 - val_loss: 2500.3108\n",
            "Epoch 14/30\n",
            "76/76 [==============================] - 3s 35ms/step - loss: 837.0132 - val_loss: 210.6516\n",
            "Epoch 15/30\n",
            "76/76 [==============================] - 2s 25ms/step - loss: 937.0499 - val_loss: 95.4429\n",
            "Epoch 16/30\n",
            "76/76 [==============================] - 2s 26ms/step - loss: 120.3889 - val_loss: 174.3280\n",
            "Epoch 17/30\n",
            "76/76 [==============================] - 2s 25ms/step - loss: 107.1124 - val_loss: 208.2732\n",
            "Epoch 18/30\n",
            "76/76 [==============================] - 2s 26ms/step - loss: 142.2253 - val_loss: 587.9617\n",
            "Epoch 19/30\n",
            "76/76 [==============================] - 2s 26ms/step - loss: 234.6571 - val_loss: 592.6454\n",
            "Epoch 20/30\n",
            "76/76 [==============================] - 2s 26ms/step - loss: 421.9031 - val_loss: 87.1869\n",
            "Epoch 21/30\n",
            "76/76 [==============================] - 2s 26ms/step - loss: 82.0569 - val_loss: 163.0994\n",
            "Epoch 22/30\n",
            "76/76 [==============================] - 2s 26ms/step - loss: 87.3119 - val_loss: 2121.9946\n",
            "Epoch 23/30\n",
            "76/76 [==============================] - 2s 26ms/step - loss: 258.1568 - val_loss: 513.9810\n",
            "Epoch 24/30\n",
            "76/76 [==============================] - 3s 41ms/step - loss: 120.6036 - val_loss: 1971.6960\n",
            "Epoch 25/30\n",
            "76/76 [==============================] - 3s 35ms/step - loss: 266.2679 - val_loss: 2043.8181\n",
            "Epoch 26/30\n",
            "76/76 [==============================] - 2s 26ms/step - loss: 972.9569 - val_loss: 96.4082\n",
            "Epoch 27/30\n",
            "76/76 [==============================] - 2s 26ms/step - loss: 100.5217 - val_loss: 148.7721\n",
            "Epoch 28/30\n",
            "76/76 [==============================] - 2s 26ms/step - loss: 118.8052 - val_loss: 193.5533\n",
            "Epoch 29/30\n",
            "76/76 [==============================] - 2s 26ms/step - loss: 102.0534 - val_loss: 285.0753\n",
            "Epoch 30/30\n",
            "76/76 [==============================] - 2s 26ms/step - loss: 151.2398 - val_loss: 76.5679\n"
          ]
        }
      ]
    },
    {
      "cell_type": "code",
      "source": [
        "#Evaluate Keras Model\n",
        "# \"Loss\"\n",
        "plt.plot(history.history['loss'])\n",
        "plt.plot(history.history['val_loss'])\n",
        "plt.title('model loss')\n",
        "plt.ylabel('loss')\n",
        "plt.xlabel('epoch')\n",
        "plt.legend(['train', 'validation'], loc='upper left')\n",
        "plt.show()"
      ],
      "metadata": {
        "colab": {
          "base_uri": "https://localhost:8080/",
          "height": 295
        },
        "id": "ajK2FVNa9Knx",
        "outputId": "c000967e-1a06-442e-e4a4-f44dde115bb5"
      },
      "execution_count": null,
      "outputs": [
        {
          "output_type": "display_data",
          "data": {
            "text/plain": [
              "<Figure size 432x288 with 1 Axes>"
            ],
            "image/png": "[encoded data removed]"
          },
          "metadata": {
            "needs_background": "light"
          }
        }
      ]
    },
    {
      "cell_type": "code",
      "source": [
        "y_pred = model.predict(X_test)"
      ],
      "metadata": {
        "colab": {
          "base_uri": "https://localhost:8080/"
        },
        "id": "Kz3Fr-XU9PJY",
        "outputId": "2b472c92-39b8-483a-d958-4b0346afa64c"
      },
      "execution_count": null,
      "outputs": [
        {
          "output_type": "stream",
          "name": "stdout",
          "text": [
            "185/185 [==============================] - 1s 3ms/step\n"
          ]
        }
      ]
    },
    {
      "cell_type": "code",
      "source": [
        "from sklearn.metrics import r2_score\n",
        "print(\"r_square score: \", r2_score(Y_test,y_pred))"
      ],
      "metadata": {
        "colab": {
          "base_uri": "https://localhost:8080/"
        },
        "id": "9ahFIpKE9Ron",
        "outputId": "9c5e3654-cd70-43bf-a281-ce4835ca6de9"
      },
      "execution_count": null,
      "outputs": [
        {
          "output_type": "stream",
          "name": "stdout",
          "text": [
            "r_square score:  0.2965648586737496\n"
          ]
        }
      ]
    },
    {
      "cell_type": "code",
      "source": [
        "y_pred\n",
        "Y_test"
      ],
      "metadata": {
        "id": "PG9lAOeP9UvV",
        "colab": {
          "base_uri": "https://localhost:8080/"
        },
        "outputId": "1b564cf7-2904-4a7e-ed44-2cfa96e25992"
      },
      "execution_count": null,
      "outputs": [
        {
          "output_type": "execute_result",
          "data": {
            "text/plain": [
              "11553     120.0\n",
              "16097      75.0\n",
              "23217      27.0\n",
              "16466    7020.0\n",
              "12081     140.0\n",
              "          ...  \n",
              "27119     390.0\n",
              "17668      58.0\n",
              "9046      260.0\n",
              "24983      24.0\n",
              "2946       23.0\n",
              "Name: TARGET(PRICE_IN_LACS), Length: 5891, dtype: float64"
            ]
          },
          "metadata": {},
          "execution_count": 29
        }
      ]
    },
    {
      "cell_type": "code",
      "source": [
        "##Third\n",
        "\n",
        "import pandas as pd\n",
        "\n",
        "data = pd.read_csv('/content/drive/MyDrive/Data Science/lab/lab3/train.csv')\n",
        "data.head()\n",
        "\n",
        "data.drop(['BHK_OR_RK'], axis=1,inplace=True)\n",
        "data.dropna(axis=0,inplace=True)\n",
        "\n",
        "#ORDINAL ENCODER [POSTED_BY and ADRESS]\n",
        "from sklearn.preprocessing import OrdinalEncoder\n",
        "\n",
        "encoder = OrdinalEncoder()\n",
        "encoder.fit(data.iloc[:,[0,7]])\n",
        "data.iloc[:,[0,7]] = encoder.transform(data.iloc[:,[0,7]])\n",
        "\n",
        "\n",
        "from sklearn.model_selection import train_test_split\n",
        "\n",
        "X_train, X_test, Y_train, Y_test = train_test_split(\n",
        "    data[data.columns[:-1]],  data['TARGET(PRICE_IN_LACS)'], test_size=0.2, random_state=1)\n",
        "print(X_train.shape, X_test.shape, Y_train.shape, Y_test.shape)"
      ],
      "metadata": {
        "colab": {
          "base_uri": "https://localhost:8080/"
        },
        "id": "0z1QhO4LDToI",
        "outputId": "cc51ca4d-8566-43dd-92cf-672ade074c1a"
      },
      "execution_count": null,
      "outputs": [
        {
          "output_type": "stream",
          "name": "stdout",
          "text": [
            "(23560, 10) (5891, 10) (23560,) (5891,)\n"
          ]
        }
      ]
    },
    {
      "cell_type": "code",
      "source": [
        "model = Sequential()\n",
        "\n",
        "model.add(Dense(216, input_dim=10, kernel_initializer='normal', activation='tanh'))\n",
        "model.add(Dense(512,kernel_initializer = 'normal', activation='tanh'))\n",
        "model.add(Dense(512,kernel_initializer = 'normal', activation='tanh'))\n",
        "model.add(Dense(1, activation='linear'))\n",
        "\n",
        "model.summary()"
      ],
      "metadata": {
        "colab": {
          "base_uri": "https://localhost:8080/"
        },
        "id": "cQfslu-mDb_A",
        "outputId": "17e9ad5a-7b77-438e-ab36-3f5487b097c1"
      },
      "execution_count": null,
      "outputs": [
        {
          "output_type": "stream",
          "name": "stdout",
          "text": [
            "Model: \"sequential_8\"\n",
            "_________________________________________________________________\n",
            " Layer (type)                Output Shape              Param #   \n",
            "=================================================================\n",
            " dense_31 (Dense)            (None, 216)               2376      \n",
            "                                                                 \n",
            " dense_32 (Dense)            (None, 512)               111104    \n",
            "                                                                 \n",
            " dense_33 (Dense)            (None, 512)               262656    \n",
            "                                                                 \n",
            " dense_34 (Dense)            (None, 1)                 513       \n",
            "                                                                 \n",
            "=================================================================\n",
            "Total params: 376,649\n",
            "Trainable params: 376,649\n",
            "Non-trainable params: 0\n",
            "_________________________________________________________________\n"
          ]
        }
      ]
    },
    {
      "cell_type": "code",
      "source": [
        "X_train.shape"
      ],
      "metadata": {
        "colab": {
          "base_uri": "https://localhost:8080/"
        },
        "id": "hRQlwMQzDhPo",
        "outputId": "f2f4cfdc-142a-4f49-e062-47dc629e2edd"
      },
      "execution_count": null,
      "outputs": [
        {
          "output_type": "execute_result",
          "data": {
            "text/plain": [
              "(23560, 10)"
            ]
          },
          "metadata": {},
          "execution_count": 57
        }
      ]
    },
    {
      "cell_type": "code",
      "source": [
        "model.compile(loss='mae', optimizer='adam')"
      ],
      "metadata": {
        "id": "st1nkHMQDlBl"
      },
      "execution_count": null,
      "outputs": []
    },
    {
      "cell_type": "code",
      "source": [
        "# Fit Keras Model\n",
        "history = model.fit(X_train, Y_train, epochs=30, batch_size=150,  verbose=1, validation_split=0.2)"
      ],
      "metadata": {
        "colab": {
          "base_uri": "https://localhost:8080/"
        },
        "id": "UOXfh0SoDols",
        "outputId": "b9394448-1bad-437b-c005-ee48b14e1c3e"
      },
      "execution_count": null,
      "outputs": [
        {
          "output_type": "stream",
          "name": "stdout",
          "text": [
            "Epoch 1/30\n",
            "126/126 [==============================] - 4s 21ms/step - loss: 110.3520 - val_loss: 95.4035\n",
            "Epoch 2/30\n",
            "126/126 [==============================] - 2s 13ms/step - loss: 106.9764 - val_loss: 95.4058\n",
            "Epoch 3/30\n",
            "126/126 [==============================] - 2s 13ms/step - loss: 106.8825 - val_loss: 95.1151\n",
            "Epoch 4/30\n",
            "126/126 [==============================] - 2s 13ms/step - loss: 104.2019 - val_loss: 91.4139\n",
            "Epoch 5/30\n",
            "126/126 [==============================] - 2s 13ms/step - loss: 101.7155 - val_loss: 87.9647\n",
            "Epoch 6/30\n",
            "126/126 [==============================] - 2s 13ms/step - loss: 99.8598 - val_loss: 87.4715\n",
            "Epoch 7/30\n",
            "126/126 [==============================] - 2s 13ms/step - loss: 99.3966 - val_loss: 87.6042\n",
            "Epoch 8/30\n",
            "126/126 [==============================] - 2s 13ms/step - loss: 99.0993 - val_loss: 86.7194\n",
            "Epoch 9/30\n",
            "126/126 [==============================] - 2s 13ms/step - loss: 98.5919 - val_loss: 86.4233\n",
            "Epoch 10/30\n",
            "126/126 [==============================] - 2s 13ms/step - loss: 98.6455 - val_loss: 88.1344\n",
            "Epoch 11/30\n",
            "126/126 [==============================] - 2s 13ms/step - loss: 99.9263 - val_loss: 89.7198\n",
            "Epoch 12/30\n",
            "126/126 [==============================] - 2s 13ms/step - loss: 99.9453 - val_loss: 87.8722\n",
            "Epoch 13/30\n",
            "126/126 [==============================] - 2s 13ms/step - loss: 100.5987 - val_loss: 89.6416\n",
            "Epoch 14/30\n",
            "126/126 [==============================] - 2s 13ms/step - loss: 99.1075 - val_loss: 87.3320\n",
            "Epoch 15/30\n",
            "126/126 [==============================] - 2s 13ms/step - loss: 97.7863 - val_loss: 86.2901\n",
            "Epoch 16/30\n",
            "126/126 [==============================] - 2s 13ms/step - loss: 98.1432 - val_loss: 88.0429\n",
            "Epoch 17/30\n",
            "126/126 [==============================] - 2s 20ms/step - loss: 99.5822 - val_loss: 87.3349\n",
            "Epoch 18/30\n",
            "126/126 [==============================] - 2s 20ms/step - loss: 98.0985 - val_loss: 87.8302\n",
            "Epoch 19/30\n",
            "126/126 [==============================] - 2s 13ms/step - loss: 98.6640 - val_loss: 85.5644\n",
            "Epoch 20/30\n",
            "126/126 [==============================] - 2s 13ms/step - loss: 97.7226 - val_loss: 88.1970\n",
            "Epoch 21/30\n",
            "126/126 [==============================] - 2s 12ms/step - loss: 96.9319 - val_loss: 86.1846\n",
            "Epoch 22/30\n",
            "126/126 [==============================] - 2s 13ms/step - loss: 98.5170 - val_loss: 88.0899\n",
            "Epoch 23/30\n",
            "126/126 [==============================] - 2s 13ms/step - loss: 99.1318 - val_loss: 87.5781\n",
            "Epoch 24/30\n",
            "126/126 [==============================] - 2s 13ms/step - loss: 96.8121 - val_loss: 84.2565\n",
            "Epoch 25/30\n",
            "126/126 [==============================] - 2s 13ms/step - loss: 97.1533 - val_loss: 88.4369\n",
            "Epoch 26/30\n",
            "126/126 [==============================] - 2s 13ms/step - loss: 97.0516 - val_loss: 85.1978\n",
            "Epoch 27/30\n",
            "126/126 [==============================] - 2s 13ms/step - loss: 95.5831 - val_loss: 84.3098\n",
            "Epoch 28/30\n",
            "126/126 [==============================] - 2s 13ms/step - loss: 95.5884 - val_loss: 84.5873\n",
            "Epoch 29/30\n",
            "126/126 [==============================] - 2s 13ms/step - loss: 95.8747 - val_loss: 84.2494\n",
            "Epoch 30/30\n",
            "126/126 [==============================] - 2s 13ms/step - loss: 95.6673 - val_loss: 85.5926\n"
          ]
        }
      ]
    },
    {
      "cell_type": "code",
      "source": [
        "#Evaluate Keras Model\n",
        "# \"Loss\"\n",
        "plt.plot(history.history['loss'])\n",
        "plt.plot(history.history['val_loss'])\n",
        "plt.title('model loss')\n",
        "plt.ylabel('loss')\n",
        "plt.xlabel('epoch')\n",
        "plt.legend(['train', 'validation'], loc='upper left')\n",
        "plt.show()"
      ],
      "metadata": {
        "colab": {
          "base_uri": "https://localhost:8080/",
          "height": 295
        },
        "id": "SDJB3NBwDqxZ",
        "outputId": "cd96c723-7e04-41c9-a80b-bae921e695aa"
      },
      "execution_count": null,
      "outputs": [
        {
          "output_type": "display_data",
          "data": {
            "text/plain": [
              "<Figure size 432x288 with 1 Axes>"
            ],
            "image/png": "[encoded data removed]"
          },
          "metadata": {
            "needs_background": "light"
          }
        }
      ]
    },
    {
      "cell_type": "code",
      "source": [
        "y_pred = model.predict(X_test)"
      ],
      "metadata": {
        "colab": {
          "base_uri": "https://localhost:8080/"
        },
        "id": "WODcOV8tDuqj",
        "outputId": "3696749a-1209-43dc-9887-2af5ec111b0d"
      },
      "execution_count": null,
      "outputs": [
        {
          "output_type": "stream",
          "name": "stdout",
          "text": [
            "185/185 [==============================] - 1s 3ms/step\n"
          ]
        }
      ]
    },
    {
      "cell_type": "code",
      "source": [
        "from sklearn.metrics import r2_score\n",
        "print(\"r_square score: \", r2_score(Y_test,y_pred))"
      ],
      "metadata": {
        "colab": {
          "base_uri": "https://localhost:8080/"
        },
        "id": "fxnKJVTHDwtE",
        "outputId": "f5606f90-3ddc-4901-d80e-224aa44c65f2"
      },
      "execution_count": null,
      "outputs": [
        {
          "output_type": "stream",
          "name": "stdout",
          "text": [
            "r_square score:  0.03641875950035567\n"
          ]
        }
      ]
    },
    {
      "cell_type": "code",
      "source": [
        "y_pred\n",
        "Y_test"
      ],
      "metadata": {
        "colab": {
          "base_uri": "https://localhost:8080/"
        },
        "id": "kSpd9QRQDywC",
        "outputId": "e8058bb0-82b5-487c-cb5f-a73267a5d210"
      },
      "execution_count": null,
      "outputs": [
        {
          "output_type": "execute_result",
          "data": {
            "text/plain": [
              "11553     120.0\n",
              "16097      75.0\n",
              "23217      27.0\n",
              "16466    7020.0\n",
              "12081     140.0\n",
              "          ...  \n",
              "27119     390.0\n",
              "17668      58.0\n",
              "9046      260.0\n",
              "24983      24.0\n",
              "2946       23.0\n",
              "Name: TARGET(PRICE_IN_LACS), Length: 5891, dtype: float64"
            ]
          },
          "metadata": {},
          "execution_count": 70
        }
      ]
    },
    {
      "cell_type": "markdown",
      "source": [
        "First model   r_square score:  0.13221704792507605\n",
        "\n",
        "\n",
        "Second model  r_square score: 0.2965648586737496\n",
        "\n",
        "\n",
        "Third model   r_square score: 0.03641875950035567\n",
        "\n",
        "**Conclusion**: The second model with relu activation function gives the best reuslts"
      ],
      "metadata": {
        "id": "I4xXFu3zFyHI"
      }
    }
  ]
}
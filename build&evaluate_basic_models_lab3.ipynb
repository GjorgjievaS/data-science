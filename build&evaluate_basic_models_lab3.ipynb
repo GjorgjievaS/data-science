{
  "nbformat": 4,
  "nbformat_minor": 0,
  "metadata": {
    "colab": {
      "provenance": []
    },
    "kernelspec": {
      "name": "python3",
      "display_name": "Python 3"
    },
    "language_info": {
      "name": "python"
    },
    "widgets": {
      "application/vnd.jupyter.widget-state+json": {
        "085b0ef873e34dc7bd6e1406fa18f05f": {
          "model_module": "@jupyter-widgets/controls",
          "model_name": "HBoxModel",
          "model_module_version": "1.5.0",
          "state": {
            "_dom_classes": [],
            "_model_module": "@jupyter-widgets/controls",
            "_model_module_version": "1.5.0",
            "_model_name": "HBoxModel",
            "_view_count": null,
            "_view_module": "@jupyter-widgets/controls",
            "_view_module_version": "1.5.0",
            "_view_name": "HBoxView",
            "box_style": "",
            "children": [
              "IPY_MODEL_86e9baac89954aa7a1681ef93861b88a",
              "IPY_MODEL_17db248c24d049d09f87ab15b34e17be",
              "IPY_MODEL_c9c9011f4a614386bd5686ad1a496534"
            ],
            "layout": "IPY_MODEL_b0659e45b8c8434190404df16d0ad3e7"
          }
        },
        "86e9baac89954aa7a1681ef93861b88a": {
          "model_module": "@jupyter-widgets/controls",
          "model_name": "HTMLModel",
          "model_module_version": "1.5.0",
          "state": {
            "_dom_classes": [],
            "_model_module": "@jupyter-widgets/controls",
            "_model_module_version": "1.5.0",
            "_model_name": "HTMLModel",
            "_view_count": null,
            "_view_module": "@jupyter-widgets/controls",
            "_view_module_version": "1.5.0",
            "_view_name": "HTMLView",
            "description": "",
            "description_tooltip": null,
            "layout": "IPY_MODEL_f1319d1aafb84d10823ff300d973fd1b",
            "placeholder": "​",
            "style": "IPY_MODEL_0a4fe36d39c74227a7071e8f54bfa5c0",
            "value": "Optimization Progress: 100%"
          }
        },
        "17db248c24d049d09f87ab15b34e17be": {
          "model_module": "@jupyter-widgets/controls",
          "model_name": "FloatProgressModel",
          "model_module_version": "1.5.0",
          "state": {
            "_dom_classes": [],
            "_model_module": "@jupyter-widgets/controls",
            "_model_module_version": "1.5.0",
            "_model_name": "FloatProgressModel",
            "_view_count": null,
            "_view_module": "@jupyter-widgets/controls",
            "_view_module_version": "1.5.0",
            "_view_name": "ProgressView",
            "bar_style": "",
            "description": "",
            "description_tooltip": null,
            "layout": "IPY_MODEL_4941d278d7484662a29ca64ac3946a2e",
            "max": 300,
            "min": 0,
            "orientation": "horizontal",
            "style": "IPY_MODEL_ea93e562d01d495d9cc4bdaed94db11f",
            "value": 300
          }
        },
        "c9c9011f4a614386bd5686ad1a496534": {
          "model_module": "@jupyter-widgets/controls",
          "model_name": "HTMLModel",
          "model_module_version": "1.5.0",
          "state": {
            "_dom_classes": [],
            "_model_module": "@jupyter-widgets/controls",
            "_model_module_version": "1.5.0",
            "_model_name": "HTMLModel",
            "_view_count": null,
            "_view_module": "@jupyter-widgets/controls",
            "_view_module_version": "1.5.0",
            "_view_name": "HTMLView",
            "description": "",
            "description_tooltip": null,
            "layout": "IPY_MODEL_59c95f357163493b9846d512302e704c",
            "placeholder": "​",
            "style": "IPY_MODEL_98ca73c61ba549b4a40ffa0a203f8d3b",
            "value": " 300/300 [09:22&lt;00:00,  1.54s/pipeline]"
          }
        },
        "b0659e45b8c8434190404df16d0ad3e7": {
          "model_module": "@jupyter-widgets/base",
          "model_name": "LayoutModel",
          "model_module_version": "1.2.0",
          "state": {
            "_model_module": "@jupyter-widgets/base",
            "_model_module_version": "1.2.0",
            "_model_name": "LayoutModel",
            "_view_count": null,
            "_view_module": "@jupyter-widgets/base",
            "_view_module_version": "1.2.0",
            "_view_name": "LayoutView",
            "align_content": null,
            "align_items": null,
            "align_self": null,
            "border": null,
            "bottom": null,
            "display": null,
            "flex": null,
            "flex_flow": null,
            "grid_area": null,
            "grid_auto_columns": null,
            "grid_auto_flow": null,
            "grid_auto_rows": null,
            "grid_column": null,
            "grid_gap": null,
            "grid_row": null,
            "grid_template_areas": null,
            "grid_template_columns": null,
            "grid_template_rows": null,
            "height": null,
            "justify_content": null,
            "justify_items": null,
            "left": null,
            "margin": null,
            "max_height": null,
            "max_width": null,
            "min_height": null,
            "min_width": null,
            "object_fit": null,
            "object_position": null,
            "order": null,
            "overflow": null,
            "overflow_x": null,
            "overflow_y": null,
            "padding": null,
            "right": null,
            "top": null,
            "visibility": "hidden",
            "width": null
          }
        },
        "f1319d1aafb84d10823ff300d973fd1b": {
          "model_module": "@jupyter-widgets/base",
          "model_name": "LayoutModel",
          "model_module_version": "1.2.0",
          "state": {
            "_model_module": "@jupyter-widgets/base",
            "_model_module_version": "1.2.0",
            "_model_name": "LayoutModel",
            "_view_count": null,
            "_view_module": "@jupyter-widgets/base",
            "_view_module_version": "1.2.0",
            "_view_name": "LayoutView",
            "align_content": null,
            "align_items": null,
            "align_self": null,
            "border": null,
            "bottom": null,
            "display": null,
            "flex": null,
            "flex_flow": null,
            "grid_area": null,
            "grid_auto_columns": null,
            "grid_auto_flow": null,
            "grid_auto_rows": null,
            "grid_column": null,
            "grid_gap": null,
            "grid_row": null,
            "grid_template_areas": null,
            "grid_template_columns": null,
            "grid_template_rows": null,
            "height": null,
            "justify_content": null,
            "justify_items": null,
            "left": null,
            "margin": null,
            "max_height": null,
            "max_width": null,
            "min_height": null,
            "min_width": null,
            "object_fit": null,
            "object_position": null,
            "order": null,
            "overflow": null,
            "overflow_x": null,
            "overflow_y": null,
            "padding": null,
            "right": null,
            "top": null,
            "visibility": null,
            "width": null
          }
        },
        "0a4fe36d39c74227a7071e8f54bfa5c0": {
          "model_module": "@jupyter-widgets/controls",
          "model_name": "DescriptionStyleModel",
          "model_module_version": "1.5.0",
          "state": {
            "_model_module": "@jupyter-widgets/controls",
            "_model_module_version": "1.5.0",
            "_model_name": "DescriptionStyleModel",
            "_view_count": null,
            "_view_module": "@jupyter-widgets/base",
            "_view_module_version": "1.2.0",
            "_view_name": "StyleView",
            "description_width": ""
          }
        },
        "4941d278d7484662a29ca64ac3946a2e": {
          "model_module": "@jupyter-widgets/base",
          "model_name": "LayoutModel",
          "model_module_version": "1.2.0",
          "state": {
            "_model_module": "@jupyter-widgets/base",
            "_model_module_version": "1.2.0",
            "_model_name": "LayoutModel",
            "_view_count": null,
            "_view_module": "@jupyter-widgets/base",
            "_view_module_version": "1.2.0",
            "_view_name": "LayoutView",
            "align_content": null,
            "align_items": null,
            "align_self": null,
            "border": null,
            "bottom": null,
            "display": null,
            "flex": null,
            "flex_flow": null,
            "grid_area": null,
            "grid_auto_columns": null,
            "grid_auto_flow": null,
            "grid_auto_rows": null,
            "grid_column": null,
            "grid_gap": null,
            "grid_row": null,
            "grid_template_areas": null,
            "grid_template_columns": null,
            "grid_template_rows": null,
            "height": null,
            "justify_content": null,
            "justify_items": null,
            "left": null,
            "margin": null,
            "max_height": null,
            "max_width": null,
            "min_height": null,
            "min_width": null,
            "object_fit": null,
            "object_position": null,
            "order": null,
            "overflow": null,
            "overflow_x": null,
            "overflow_y": null,
            "padding": null,
            "right": null,
            "top": null,
            "visibility": null,
            "width": null
          }
        },
        "ea93e562d01d495d9cc4bdaed94db11f": {
          "model_module": "@jupyter-widgets/controls",
          "model_name": "ProgressStyleModel",
          "model_module_version": "1.5.0",
          "state": {
            "_model_module": "@jupyter-widgets/controls",
            "_model_module_version": "1.5.0",
            "_model_name": "ProgressStyleModel",
            "_view_count": null,
            "_view_module": "@jupyter-widgets/base",
            "_view_module_version": "1.2.0",
            "_view_name": "StyleView",
            "bar_color": null,
            "description_width": ""
          }
        },
        "59c95f357163493b9846d512302e704c": {
          "model_module": "@jupyter-widgets/base",
          "model_name": "LayoutModel",
          "model_module_version": "1.2.0",
          "state": {
            "_model_module": "@jupyter-widgets/base",
            "_model_module_version": "1.2.0",
            "_model_name": "LayoutModel",
            "_view_count": null,
            "_view_module": "@jupyter-widgets/base",
            "_view_module_version": "1.2.0",
            "_view_name": "LayoutView",
            "align_content": null,
            "align_items": null,
            "align_self": null,
            "border": null,
            "bottom": null,
            "display": null,
            "flex": null,
            "flex_flow": null,
            "grid_area": null,
            "grid_auto_columns": null,
            "grid_auto_flow": null,
            "grid_auto_rows": null,
            "grid_column": null,
            "grid_gap": null,
            "grid_row": null,
            "grid_template_areas": null,
            "grid_template_columns": null,
            "grid_template_rows": null,
            "height": null,
            "justify_content": null,
            "justify_items": null,
            "left": null,
            "margin": null,
            "max_height": null,
            "max_width": null,
            "min_height": null,
            "min_width": null,
            "object_fit": null,
            "object_position": null,
            "order": null,
            "overflow": null,
            "overflow_x": null,
            "overflow_y": null,
            "padding": null,
            "right": null,
            "top": null,
            "visibility": null,
            "width": null
          }
        },
        "98ca73c61ba549b4a40ffa0a203f8d3b": {
          "model_module": "@jupyter-widgets/controls",
          "model_name": "DescriptionStyleModel",
          "model_module_version": "1.5.0",
          "state": {
            "_model_module": "@jupyter-widgets/controls",
            "_model_module_version": "1.5.0",
            "_model_name": "DescriptionStyleModel",
            "_view_count": null,
            "_view_module": "@jupyter-widgets/base",
            "_view_module_version": "1.2.0",
            "_view_name": "StyleView",
            "description_width": ""
          }
        }
      }
    }
  },
  "cells": [
    {
      "cell_type": "markdown",
      "source": [
        "<ul><font size = 5 color='Orange'>\n",
        "Learning Goals</font>\n",
        "<font color = 'Orange'><li>Obtaining the Dataset</li>\n",
        "<li>Describe the target value</li>\n",
        "<li>Select is it classification or regression problem</li>\n",
        "<li>Build basic model (KNN/Logistic Regression/Linear Regression) depending on the problem</li>\n",
        "<li>Build Decision Tree model</li>\n",
        "<li>Evaluate both models on the same test dataset</li>\n",
        "<li>Compare the results</li>\n",
        "</ul>"
      ],
      "metadata": {
        "id": "wsPEypIyjSq-"
      }
    },
    {
      "cell_type": "markdown",
      "source": [
        "The Dataset for this exercise depends on your index number i.e number_of_data_set = index % 10:\n",
        "\n",
        "\n",
        "0.  https://www.kaggle.com/tunguz/us-elections-dataset\n",
        "1.  https://www.kaggle.com/andrewmvd/heart-failure-clinical-data\n",
        "2.  https://www.kaggle.com/sootersaalu/amazon-top-50-bestselling-books-2009-2019\n",
        "3.  https://www.kaggle.com/anmolkumar/health-insurance-cross-sell-prediction\n",
        "4.  https://www.kaggle.com/uciml/red-wine-quality-cortez-et-al-2009\n",
        "5.  https://www.kaggle.com/anmolkumar/house-price-prediction-challenge\n",
        "6.  https://www.kaggle.com/datasets/tadhgfitzgerald/fifa-international-soccer-mens-ranking-1993now\n",
        "7.  https://www.kaggle.com/arslanali4343/real-estate-dataset\n",
        "8.  https://www.kaggle.com/terenceshin/covid19s-impact-on-airport-traffic\n",
        "9.  https://www.kaggle.com/arslanali4343/top-personality-dataset\n",
        "\n",
        "\n",
        "\n",
        "\n",
        "\n"
      ],
      "metadata": {
        "id": "qO5SWztjhay0"
      }
    },
    {
      "cell_type": "code",
      "source": [
        "from google.colab import drive\n",
        "drive.mount('/content/drive')"
      ],
      "metadata": {
        "colab": {
          "base_uri": "https://localhost:8080/"
        },
        "id": "DTcFsbJlArCa",
        "outputId": "30d76c39-12bc-4255-e642-901438144592"
      },
      "execution_count": null,
      "outputs": [
        {
          "output_type": "stream",
          "name": "stdout",
          "text": [
            "Mounted at /content/drive\n"
          ]
        }
      ]
    },
    {
      "cell_type": "code",
      "source": [
        "#Read the dataset\n",
        "import pandas as pd\n",
        "import numpy as np\n",
        "\n",
        "data=pd.read_csv('/content/drive/MyDrive/Data Science/lab/lab3/train.csv')\n",
        "data=data.iloc[:2000,:]"
      ],
      "metadata": {
        "id": "WORtycj8iCA8"
      },
      "execution_count": null,
      "outputs": []
    },
    {
      "cell_type": "code",
      "source": [
        "#Target Values\n",
        "\n",
        "#TARGET(PRICE_IN_LACS)"
      ],
      "metadata": {
        "id": "pFuK_ITUBTPP"
      },
      "execution_count": null,
      "outputs": []
    },
    {
      "cell_type": "code",
      "source": [
        "data.drop(['BHK_OR_RK'], axis=1,inplace=True)"
      ],
      "metadata": {
        "id": "27U2ZArLHLGk"
      },
      "execution_count": null,
      "outputs": []
    },
    {
      "cell_type": "code",
      "execution_count": null,
      "metadata": {
        "id": "tNi3STyahTOf",
        "colab": {
          "base_uri": "https://localhost:8080/",
          "height": 206
        },
        "outputId": "8c93ae00-8d26-435f-93a1-90951f7e0d50"
      },
      "outputs": [
        {
          "output_type": "execute_result",
          "data": {
            "text/plain": [
              "  POSTED_BY  UNDER_CONSTRUCTION  RERA  BHK_NO.    SQUARE_FT  READY_TO_MOVE  \\\n",
              "0     Owner                   0     0        2  1300.236407              1   \n",
              "1    Dealer                   0     0        2  1275.000000              1   \n",
              "2     Owner                   0     0        2   933.159722              1   \n",
              "3     Owner                   0     1        2   929.921143              1   \n",
              "4    Dealer                   1     0        2   999.009247              0   \n",
              "\n",
              "   RESALE                      ADDRESS  LONGITUDE   LATITUDE  \\\n",
              "0       1        Ksfc Layout,Bangalore  12.969910  77.597960   \n",
              "1       1    Vishweshwara Nagar,Mysore  12.274538  76.644605   \n",
              "2       1             Jigani,Bangalore  12.778033  77.632191   \n",
              "3       1  Sector-1 Vaishali,Ghaziabad  28.642300  77.344500   \n",
              "4       1             New Town,Kolkata  22.592200  88.484911   \n",
              "\n",
              "   TARGET(PRICE_IN_LACS)  \n",
              "0                   55.0  \n",
              "1                   51.0  \n",
              "2                   43.0  \n",
              "3                   62.5  \n",
              "4                   60.5  "
            ],
            "text/html": [
              "\n",
              "  <div id=\"df-cc19434e-167d-4d9a-b691-e04ac11ee101\">\n",
              "    <div class=\"colab-df-container\">\n",
              "      <div>\n",
              "<style scoped>\n",
              "    .dataframe tbody tr th:only-of-type {\n",
              "        vertical-align: middle;\n",
              "    }\n",
              "\n",
              "    .dataframe tbody tr th {\n",
              "        vertical-align: top;\n",
              "    }\n",
              "\n",
              "    .dataframe thead th {\n",
              "        text-align: right;\n",
              "    }\n",
              "</style>\n",
              "<table border=\"1\" class=\"dataframe\">\n",
              "  <thead>\n",
              "    <tr style=\"text-align: right;\">\n",
              "      <th></th>\n",
              "      <th>POSTED_BY</th>\n",
              "      <th>UNDER_CONSTRUCTION</th>\n",
              "      <th>RERA</th>\n",
              "      <th>BHK_NO.</th>\n",
              "      <th>SQUARE_FT</th>\n",
              "      <th>READY_TO_MOVE</th>\n",
              "      <th>RESALE</th>\n",
              "      <th>ADDRESS</th>\n",
              "      <th>LONGITUDE</th>\n",
              "      <th>LATITUDE</th>\n",
              "      <th>TARGET(PRICE_IN_LACS)</th>\n",
              "    </tr>\n",
              "  </thead>\n",
              "  <tbody>\n",
              "    <tr>\n",
              "      <th>0</th>\n",
              "      <td>Owner</td>\n",
              "      <td>0</td>\n",
              "      <td>0</td>\n",
              "      <td>2</td>\n",
              "      <td>1300.236407</td>\n",
              "      <td>1</td>\n",
              "      <td>1</td>\n",
              "      <td>Ksfc Layout,Bangalore</td>\n",
              "      <td>12.969910</td>\n",
              "      <td>77.597960</td>\n",
              "      <td>55.0</td>\n",
              "    </tr>\n",
              "    <tr>\n",
              "      <th>1</th>\n",
              "      <td>Dealer</td>\n",
              "      <td>0</td>\n",
              "      <td>0</td>\n",
              "      <td>2</td>\n",
              "      <td>1275.000000</td>\n",
              "      <td>1</td>\n",
              "      <td>1</td>\n",
              "      <td>Vishweshwara Nagar,Mysore</td>\n",
              "      <td>12.274538</td>\n",
              "      <td>76.644605</td>\n",
              "      <td>51.0</td>\n",
              "    </tr>\n",
              "    <tr>\n",
              "      <th>2</th>\n",
              "      <td>Owner</td>\n",
              "      <td>0</td>\n",
              "      <td>0</td>\n",
              "      <td>2</td>\n",
              "      <td>933.159722</td>\n",
              "      <td>1</td>\n",
              "      <td>1</td>\n",
              "      <td>Jigani,Bangalore</td>\n",
              "      <td>12.778033</td>\n",
              "      <td>77.632191</td>\n",
              "      <td>43.0</td>\n",
              "    </tr>\n",
              "    <tr>\n",
              "      <th>3</th>\n",
              "      <td>Owner</td>\n",
              "      <td>0</td>\n",
              "      <td>1</td>\n",
              "      <td>2</td>\n",
              "      <td>929.921143</td>\n",
              "      <td>1</td>\n",
              "      <td>1</td>\n",
              "      <td>Sector-1 Vaishali,Ghaziabad</td>\n",
              "      <td>28.642300</td>\n",
              "      <td>77.344500</td>\n",
              "      <td>62.5</td>\n",
              "    </tr>\n",
              "    <tr>\n",
              "      <th>4</th>\n",
              "      <td>Dealer</td>\n",
              "      <td>1</td>\n",
              "      <td>0</td>\n",
              "      <td>2</td>\n",
              "      <td>999.009247</td>\n",
              "      <td>0</td>\n",
              "      <td>1</td>\n",
              "      <td>New Town,Kolkata</td>\n",
              "      <td>22.592200</td>\n",
              "      <td>88.484911</td>\n",
              "      <td>60.5</td>\n",
              "    </tr>\n",
              "  </tbody>\n",
              "</table>\n",
              "</div>\n",
              "      <button class=\"colab-df-convert\" onclick=\"convertToInteractive('df-cc19434e-167d-4d9a-b691-e04ac11ee101')\"\n",
              "              title=\"Convert this dataframe to an interactive table.\"\n",
              "              style=\"display:none;\">\n",
              "        \n",
              "  <svg xmlns=\"http://www.w3.org/2000/svg\" height=\"24px\"viewBox=\"0 0 24 24\"\n",
              "       width=\"24px\">\n",
              "    <path d=\"M0 0h24v24H0V0z\" fill=\"none\"/>\n",
              "    <path d=\"M18.56 5.44l.94 2.06.94-2.06 2.06-.94-2.06-.94-.94-2.06-.94 2.06-2.06.94zm-11 1L8.5 8.5l.94-2.06 2.06-.94-2.06-.94L8.5 2.5l-.94 2.06-2.06.94zm10 10l.94 2.06.94-2.06 2.06-.94-2.06-.94-.94-2.06-.94 2.06-2.06.94z\"/><path d=\"M17.41 7.96l-1.37-1.37c-.4-.4-.92-.59-1.43-.59-.52 0-1.04.2-1.43.59L10.3 9.45l-7.72 7.72c-.78.78-.78 2.05 0 2.83L4 21.41c.39.39.9.59 1.41.59.51 0 1.02-.2 1.41-.59l7.78-7.78 2.81-2.81c.8-.78.8-2.07 0-2.86zM5.41 20L4 18.59l7.72-7.72 1.47 1.35L5.41 20z\"/>\n",
              "  </svg>\n",
              "      </button>\n",
              "      \n",
              "  <style>\n",
              "    .colab-df-container {\n",
              "      display:flex;\n",
              "      flex-wrap:wrap;\n",
              "      gap: 12px;\n",
              "    }\n",
              "\n",
              "    .colab-df-convert {\n",
              "      background-color: #E8F0FE;\n",
              "      border: none;\n",
              "      border-radius: 50%;\n",
              "      cursor: pointer;\n",
              "      display: none;\n",
              "      fill: #1967D2;\n",
              "      height: 32px;\n",
              "      padding: 0 0 0 0;\n",
              "      width: 32px;\n",
              "    }\n",
              "\n",
              "    .colab-df-convert:hover {\n",
              "      background-color: #E2EBFA;\n",
              "      box-shadow: 0px 1px 2px rgba(60, 64, 67, 0.3), 0px 1px 3px 1px rgba(60, 64, 67, 0.15);\n",
              "      fill: #174EA6;\n",
              "    }\n",
              "\n",
              "    [theme=dark] .colab-df-convert {\n",
              "      background-color: #3B4455;\n",
              "      fill: #D2E3FC;\n",
              "    }\n",
              "\n",
              "    [theme=dark] .colab-df-convert:hover {\n",
              "      background-color: #434B5C;\n",
              "      box-shadow: 0px 1px 3px 1px rgba(0, 0, 0, 0.15);\n",
              "      filter: drop-shadow(0px 1px 2px rgba(0, 0, 0, 0.3));\n",
              "      fill: #FFFFFF;\n",
              "    }\n",
              "  </style>\n",
              "\n",
              "      <script>\n",
              "        const buttonEl =\n",
              "          document.querySelector('#df-cc19434e-167d-4d9a-b691-e04ac11ee101 button.colab-df-convert');\n",
              "        buttonEl.style.display =\n",
              "          google.colab.kernel.accessAllowed ? 'block' : 'none';\n",
              "\n",
              "        async function convertToInteractive(key) {\n",
              "          const element = document.querySelector('#df-cc19434e-167d-4d9a-b691-e04ac11ee101');\n",
              "          const dataTable =\n",
              "            await google.colab.kernel.invokeFunction('convertToInteractive',\n",
              "                                                     [key], {});\n",
              "          if (!dataTable) return;\n",
              "\n",
              "          const docLinkHtml = 'Like what you see? Visit the ' +\n",
              "            '<a target=\"_blank\" href=https://colab.research.google.com/notebooks/data_table.ipynb>data table notebook</a>'\n",
              "            + ' to learn more about interactive tables.';\n",
              "          element.innerHTML = '';\n",
              "          dataTable['output_type'] = 'display_data';\n",
              "          await google.colab.output.renderOutput(dataTable, element);\n",
              "          const docLink = document.createElement('div');\n",
              "          docLink.innerHTML = docLinkHtml;\n",
              "          element.appendChild(docLink);\n",
              "        }\n",
              "      </script>\n",
              "    </div>\n",
              "  </div>\n",
              "  "
            ]
          },
          "metadata": {},
          "execution_count": 5
        }
      ],
      "source": [
        "data.head()"
      ]
    },
    {
      "cell_type": "code",
      "source": [
        "import matplotlib.pyplot as plt\n",
        "import seaborn as sns\n",
        "%matplotlib inline\n",
        "\n",
        "sns.pairplot(data.iloc[:2000, :])\n",
        "#doesn't help because every value is 0 or 1"
      ],
      "metadata": {
        "colab": {
          "base_uri": "https://localhost:8080/",
          "height": 1000
        },
        "id": "R1X0UTLyHkUq",
        "outputId": "40ef1ef0-379e-4aab-de47-22893cda83d2"
      },
      "execution_count": null,
      "outputs": [
        {
          "output_type": "execute_result",
          "data": {
            "text/plain": [
              "<seaborn.axisgrid.PairGrid at 0x7fd54868dbe0>"
            ]
          },
          "metadata": {},
          "execution_count": 6
        },
        {
          "output_type": "display_data",
          "data": {
            "text/plain": [
              "<Figure size 1620x1620 with 90 Axes>"
            ],
            "image/png": "[encoded data removed]"
          },
          "metadata": {
            "needs_background": "light"
          }
        }
      ]
    },
    {
      "cell_type": "code",
      "source": [
        "data.isnull().count()"
      ],
      "metadata": {
        "colab": {
          "base_uri": "https://localhost:8080/"
        },
        "id": "O0ubLjYLQftd",
        "outputId": "96a80920-fb7a-411f-a8f5-667c37f87531"
      },
      "execution_count": null,
      "outputs": [
        {
          "output_type": "execute_result",
          "data": {
            "text/plain": [
              "POSTED_BY                29451\n",
              "UNDER_CONSTRUCTION       29451\n",
              "RERA                     29451\n",
              "BHK_NO.                  29451\n",
              "SQUARE_FT                29451\n",
              "READY_TO_MOVE            29451\n",
              "RESALE                   29451\n",
              "ADDRESS                  29451\n",
              "LONGITUDE                29451\n",
              "LATITUDE                 29451\n",
              "TARGET(PRICE_IN_LACS)    29451\n",
              "dtype: int64"
            ]
          },
          "metadata": {},
          "execution_count": 7
        }
      ]
    },
    {
      "cell_type": "code",
      "source": [
        "data.dropna(axis=0,inplace=True)"
      ],
      "metadata": {
        "id": "uj3AKr0vQlWe"
      },
      "execution_count": null,
      "outputs": []
    },
    {
      "cell_type": "code",
      "source": [
        "from sklearn.model_selection import train_test_split\n",
        "\n",
        "X_train, X_test, Y_train, Y_test = train_test_split(\n",
        "    data[data.columns[:-1]],  data['TARGET(PRICE_IN_LACS)'], test_size=0.2)"
      ],
      "metadata": {
        "id": "95ifDSTYGdYU"
      },
      "execution_count": null,
      "outputs": []
    },
    {
      "cell_type": "code",
      "source": [
        "#ORDINAL ENCODER [POSTED_BY and ADRESS]\n",
        "from sklearn.preprocessing import OrdinalEncoder\n",
        "\n",
        "encoder = OrdinalEncoder()\n",
        "encoder.fit(data.iloc[:,[0,7]])\n",
        "X_train.iloc[:,[0,7]] = encoder.transform(X_train.iloc[:,[0,7]])\n",
        "\n",
        "X_test.iloc[:,[0,7]] = encoder.transform(X_test.iloc[:,[0,7]])"
      ],
      "metadata": {
        "id": "j__SSsKWGbah"
      },
      "execution_count": null,
      "outputs": []
    },
    {
      "cell_type": "code",
      "source": [
        "X_train"
      ],
      "metadata": {
        "id": "CY_4SD3lGVlI",
        "colab": {
          "base_uri": "https://localhost:8080/",
          "height": 424
        },
        "outputId": "cb17d67a-7485-4d2c-8d01-56f13c912530"
      },
      "execution_count": null,
      "outputs": [
        {
          "output_type": "execute_result",
          "data": {
            "text/plain": [
              "       POSTED_BY  UNDER_CONSTRUCTION  RERA  BHK_NO.    SQUARE_FT  \\\n",
              "24309        1.0                   1     0        4  4400.586745   \n",
              "4495         1.0                   1     0        1   592.800528   \n",
              "8571         2.0                   0     0        1   549.853372   \n",
              "12319        1.0                   1     1        4  2080.332853   \n",
              "27536        2.0                   0     0        3  1500.000000   \n",
              "...          ...                 ...   ...      ...          ...   \n",
              "25411        1.0                   0     1        1   597.014925   \n",
              "22996        1.0                   0     1        2   567.123066   \n",
              "23338        1.0                   0     1        3  1767.272727   \n",
              "12460        2.0                   0     0        2  8723.404255   \n",
              "19369        2.0                   0     0        3  1079.913607   \n",
              "\n",
              "       READY_TO_MOVE  RESALE  ADDRESS  LONGITUDE   LATITUDE  \n",
              "24309              0       1   6862.0  28.602325  77.401994  \n",
              "4495               0       1   3431.0  18.669919  73.853723  \n",
              "8571               1       1    411.0  21.170000  72.830000  \n",
              "12319              0       0   3397.0  13.072650  80.176063  \n",
              "27536              1       1   6758.0  27.494145  77.465069  \n",
              "...              ...     ...      ...        ...        ...  \n",
              "25411              1       1   3196.0  12.835600  80.168200  \n",
              "22996              1       0   2485.0  24.690280  78.418890  \n",
              "23338              1       1   4135.0  20.353795  85.821020  \n",
              "12460              1       1   4534.0  28.671102  77.329251  \n",
              "19369              1       1   1215.0  30.267000  78.007000  \n",
              "\n",
              "[23560 rows x 10 columns]"
            ],
            "text/html": [
              "\n",
              "  <div id=\"df-8a248491-af3f-4b11-a5c6-3181ab2cffc4\">\n",
              "    <div class=\"colab-df-container\">\n",
              "      <div>\n",
              "<style scoped>\n",
              "    .dataframe tbody tr th:only-of-type {\n",
              "        vertical-align: middle;\n",
              "    }\n",
              "\n",
              "    .dataframe tbody tr th {\n",
              "        vertical-align: top;\n",
              "    }\n",
              "\n",
              "    .dataframe thead th {\n",
              "        text-align: right;\n",
              "    }\n",
              "</style>\n",
              "<table border=\"1\" class=\"dataframe\">\n",
              "  <thead>\n",
              "    <tr style=\"text-align: right;\">\n",
              "      <th></th>\n",
              "      <th>POSTED_BY</th>\n",
              "      <th>UNDER_CONSTRUCTION</th>\n",
              "      <th>RERA</th>\n",
              "      <th>BHK_NO.</th>\n",
              "      <th>SQUARE_FT</th>\n",
              "      <th>READY_TO_MOVE</th>\n",
              "      <th>RESALE</th>\n",
              "      <th>ADDRESS</th>\n",
              "      <th>LONGITUDE</th>\n",
              "      <th>LATITUDE</th>\n",
              "    </tr>\n",
              "  </thead>\n",
              "  <tbody>\n",
              "    <tr>\n",
              "      <th>24309</th>\n",
              "      <td>1.0</td>\n",
              "      <td>1</td>\n",
              "      <td>0</td>\n",
              "      <td>4</td>\n",
              "      <td>4400.586745</td>\n",
              "      <td>0</td>\n",
              "      <td>1</td>\n",
              "      <td>6862.0</td>\n",
              "      <td>28.602325</td>\n",
              "      <td>77.401994</td>\n",
              "    </tr>\n",
              "    <tr>\n",
              "      <th>4495</th>\n",
              "      <td>1.0</td>\n",
              "      <td>1</td>\n",
              "      <td>0</td>\n",
              "      <td>1</td>\n",
              "      <td>592.800528</td>\n",
              "      <td>0</td>\n",
              "      <td>1</td>\n",
              "      <td>3431.0</td>\n",
              "      <td>18.669919</td>\n",
              "      <td>73.853723</td>\n",
              "    </tr>\n",
              "    <tr>\n",
              "      <th>8571</th>\n",
              "      <td>2.0</td>\n",
              "      <td>0</td>\n",
              "      <td>0</td>\n",
              "      <td>1</td>\n",
              "      <td>549.853372</td>\n",
              "      <td>1</td>\n",
              "      <td>1</td>\n",
              "      <td>411.0</td>\n",
              "      <td>21.170000</td>\n",
              "      <td>72.830000</td>\n",
              "    </tr>\n",
              "    <tr>\n",
              "      <th>12319</th>\n",
              "      <td>1.0</td>\n",
              "      <td>1</td>\n",
              "      <td>1</td>\n",
              "      <td>4</td>\n",
              "      <td>2080.332853</td>\n",
              "      <td>0</td>\n",
              "      <td>0</td>\n",
              "      <td>3397.0</td>\n",
              "      <td>13.072650</td>\n",
              "      <td>80.176063</td>\n",
              "    </tr>\n",
              "    <tr>\n",
              "      <th>27536</th>\n",
              "      <td>2.0</td>\n",
              "      <td>0</td>\n",
              "      <td>0</td>\n",
              "      <td>3</td>\n",
              "      <td>1500.000000</td>\n",
              "      <td>1</td>\n",
              "      <td>1</td>\n",
              "      <td>6758.0</td>\n",
              "      <td>27.494145</td>\n",
              "      <td>77.465069</td>\n",
              "    </tr>\n",
              "    <tr>\n",
              "      <th>...</th>\n",
              "      <td>...</td>\n",
              "      <td>...</td>\n",
              "      <td>...</td>\n",
              "      <td>...</td>\n",
              "      <td>...</td>\n",
              "      <td>...</td>\n",
              "      <td>...</td>\n",
              "      <td>...</td>\n",
              "      <td>...</td>\n",
              "      <td>...</td>\n",
              "    </tr>\n",
              "    <tr>\n",
              "      <th>25411</th>\n",
              "      <td>1.0</td>\n",
              "      <td>0</td>\n",
              "      <td>1</td>\n",
              "      <td>1</td>\n",
              "      <td>597.014925</td>\n",
              "      <td>1</td>\n",
              "      <td>1</td>\n",
              "      <td>3196.0</td>\n",
              "      <td>12.835600</td>\n",
              "      <td>80.168200</td>\n",
              "    </tr>\n",
              "    <tr>\n",
              "      <th>22996</th>\n",
              "      <td>1.0</td>\n",
              "      <td>0</td>\n",
              "      <td>1</td>\n",
              "      <td>2</td>\n",
              "      <td>567.123066</td>\n",
              "      <td>1</td>\n",
              "      <td>0</td>\n",
              "      <td>2485.0</td>\n",
              "      <td>24.690280</td>\n",
              "      <td>78.418890</td>\n",
              "    </tr>\n",
              "    <tr>\n",
              "      <th>23338</th>\n",
              "      <td>1.0</td>\n",
              "      <td>0</td>\n",
              "      <td>1</td>\n",
              "      <td>3</td>\n",
              "      <td>1767.272727</td>\n",
              "      <td>1</td>\n",
              "      <td>1</td>\n",
              "      <td>4135.0</td>\n",
              "      <td>20.353795</td>\n",
              "      <td>85.821020</td>\n",
              "    </tr>\n",
              "    <tr>\n",
              "      <th>12460</th>\n",
              "      <td>2.0</td>\n",
              "      <td>0</td>\n",
              "      <td>0</td>\n",
              "      <td>2</td>\n",
              "      <td>8723.404255</td>\n",
              "      <td>1</td>\n",
              "      <td>1</td>\n",
              "      <td>4534.0</td>\n",
              "      <td>28.671102</td>\n",
              "      <td>77.329251</td>\n",
              "    </tr>\n",
              "    <tr>\n",
              "      <th>19369</th>\n",
              "      <td>2.0</td>\n",
              "      <td>0</td>\n",
              "      <td>0</td>\n",
              "      <td>3</td>\n",
              "      <td>1079.913607</td>\n",
              "      <td>1</td>\n",
              "      <td>1</td>\n",
              "      <td>1215.0</td>\n",
              "      <td>30.267000</td>\n",
              "      <td>78.007000</td>\n",
              "    </tr>\n",
              "  </tbody>\n",
              "</table>\n",
              "<p>23560 rows × 10 columns</p>\n",
              "</div>\n",
              "      <button class=\"colab-df-convert\" onclick=\"convertToInteractive('df-8a248491-af3f-4b11-a5c6-3181ab2cffc4')\"\n",
              "              title=\"Convert this dataframe to an interactive table.\"\n",
              "              style=\"display:none;\">\n",
              "        \n",
              "  <svg xmlns=\"http://www.w3.org/2000/svg\" height=\"24px\"viewBox=\"0 0 24 24\"\n",
              "       width=\"24px\">\n",
              "    <path d=\"M0 0h24v24H0V0z\" fill=\"none\"/>\n",
              "    <path d=\"M18.56 5.44l.94 2.06.94-2.06 2.06-.94-2.06-.94-.94-2.06-.94 2.06-2.06.94zm-11 1L8.5 8.5l.94-2.06 2.06-.94-2.06-.94L8.5 2.5l-.94 2.06-2.06.94zm10 10l.94 2.06.94-2.06 2.06-.94-2.06-.94-.94-2.06-.94 2.06-2.06.94z\"/><path d=\"M17.41 7.96l-1.37-1.37c-.4-.4-.92-.59-1.43-.59-.52 0-1.04.2-1.43.59L10.3 9.45l-7.72 7.72c-.78.78-.78 2.05 0 2.83L4 21.41c.39.39.9.59 1.41.59.51 0 1.02-.2 1.41-.59l7.78-7.78 2.81-2.81c.8-.78.8-2.07 0-2.86zM5.41 20L4 18.59l7.72-7.72 1.47 1.35L5.41 20z\"/>\n",
              "  </svg>\n",
              "      </button>\n",
              "      \n",
              "  <style>\n",
              "    .colab-df-container {\n",
              "      display:flex;\n",
              "      flex-wrap:wrap;\n",
              "      gap: 12px;\n",
              "    }\n",
              "\n",
              "    .colab-df-convert {\n",
              "      background-color: #E8F0FE;\n",
              "      border: none;\n",
              "      border-radius: 50%;\n",
              "      cursor: pointer;\n",
              "      display: none;\n",
              "      fill: #1967D2;\n",
              "      height: 32px;\n",
              "      padding: 0 0 0 0;\n",
              "      width: 32px;\n",
              "    }\n",
              "\n",
              "    .colab-df-convert:hover {\n",
              "      background-color: #E2EBFA;\n",
              "      box-shadow: 0px 1px 2px rgba(60, 64, 67, 0.3), 0px 1px 3px 1px rgba(60, 64, 67, 0.15);\n",
              "      fill: #174EA6;\n",
              "    }\n",
              "\n",
              "    [theme=dark] .colab-df-convert {\n",
              "      background-color: #3B4455;\n",
              "      fill: #D2E3FC;\n",
              "    }\n",
              "\n",
              "    [theme=dark] .colab-df-convert:hover {\n",
              "      background-color: #434B5C;\n",
              "      box-shadow: 0px 1px 3px 1px rgba(0, 0, 0, 0.15);\n",
              "      filter: drop-shadow(0px 1px 2px rgba(0, 0, 0, 0.3));\n",
              "      fill: #FFFFFF;\n",
              "    }\n",
              "  </style>\n",
              "\n",
              "      <script>\n",
              "        const buttonEl =\n",
              "          document.querySelector('#df-8a248491-af3f-4b11-a5c6-3181ab2cffc4 button.colab-df-convert');\n",
              "        buttonEl.style.display =\n",
              "          google.colab.kernel.accessAllowed ? 'block' : 'none';\n",
              "\n",
              "        async function convertToInteractive(key) {\n",
              "          const element = document.querySelector('#df-8a248491-af3f-4b11-a5c6-3181ab2cffc4');\n",
              "          const dataTable =\n",
              "            await google.colab.kernel.invokeFunction('convertToInteractive',\n",
              "                                                     [key], {});\n",
              "          if (!dataTable) return;\n",
              "\n",
              "          const docLinkHtml = 'Like what you see? Visit the ' +\n",
              "            '<a target=\"_blank\" href=https://colab.research.google.com/notebooks/data_table.ipynb>data table notebook</a>'\n",
              "            + ' to learn more about interactive tables.';\n",
              "          element.innerHTML = '';\n",
              "          dataTable['output_type'] = 'display_data';\n",
              "          await google.colab.output.renderOutput(dataTable, element);\n",
              "          const docLink = document.createElement('div');\n",
              "          docLink.innerHTML = docLinkHtml;\n",
              "          element.appendChild(docLink);\n",
              "        }\n",
              "      </script>\n",
              "    </div>\n",
              "  </div>\n",
              "  "
            ]
          },
          "metadata": {},
          "execution_count": 11
        }
      ]
    },
    {
      "cell_type": "code",
      "source": [
        "# Skaliranje na vrednostite, imame mn golemi brojki longituda itn.\n",
        "from sklearn.preprocessing import StandardScaler\n",
        "scaler = StandardScaler()\n",
        "scaler.fit(X_train)\n",
        "\n",
        "X_train = scaler.transform(X_train)\n",
        "X_test = scaler.transform(X_test)"
      ],
      "metadata": {
        "id": "4p1cZDJ7Q5Sh"
      },
      "execution_count": null,
      "outputs": []
    },
    {
      "cell_type": "code",
      "source": [
        "X_train"
      ],
      "metadata": {
        "colab": {
          "base_uri": "https://localhost:8080/"
        },
        "id": "5fGq1M4QQ-9i",
        "outputId": "d72dd4f2-4fc2-4e26-fb58-de8d89923b22"
      },
      "execution_count": null,
      "outputs": [
        {
          "output_type": "execute_result",
          "data": {
            "text/plain": [
              "array([[-0.65113149,  2.13247398, -0.68430892, ...,  1.67039255,\n",
              "         1.16787967,  0.05278941],\n",
              "       [-0.65113149,  2.13247398, -0.68430892, ..., -0.05795274,\n",
              "        -0.43116029, -0.27554627],\n",
              "       [ 1.28974123, -0.4689389 , -0.68430892, ..., -1.57925929,\n",
              "        -0.02866673, -0.37027544],\n",
              "       ...,\n",
              "       [-0.65113149, -0.4689389 ,  1.46132831, ...,  0.29668296,\n",
              "        -0.16006937,  0.83183549],\n",
              "       [ 1.28974123, -0.4689389 , -0.68430892, ...,  0.49767677,\n",
              "         1.17895223,  0.04605821],\n",
              "       [ 1.28974123, -0.4689389 , -0.68430892, ..., -1.1742492 ,\n",
              "         1.43587938,  0.10877303]])"
            ]
          },
          "metadata": {},
          "execution_count": 13
        }
      ]
    },
    {
      "cell_type": "code",
      "source": [
        "#  Training the model using  Linear Regression\n",
        "from sklearn.linear_model import LinearRegression\n",
        "\n",
        "model = LinearRegression().fit(X_train, Y_train)\n",
        "\n",
        "r_sq = model.score(X_train, Y_train)\n",
        "\n",
        "print('coefficient of determination:', r_sq)\n",
        "\n",
        "print('intercept:', model.intercept_)\n",
        "\n",
        "print('slope:', model.coef_)"
      ],
      "metadata": {
        "colab": {
          "base_uri": "https://localhost:8080/"
        },
        "id": "XZIb_lZDRA58",
        "outputId": "2e055ced-9237-46c2-d8a9-2311d6cff1e4"
      },
      "execution_count": null,
      "outputs": [
        {
          "output_type": "stream",
          "name": "stdout",
          "text": [
            "coefficient of determination: 0.27415100926207747\n",
            "intercept: 138.04411447166038\n",
            "slope: [-3.05164255e+01  9.82409857e+13  3.93359375e+00  5.12695312e+01\n",
            "  2.39926270e+02  9.82409857e+13 -9.47890625e+01 -9.16015625e+00\n",
            " -7.21484375e+00 -1.26855469e+01]\n"
          ]
        }
      ]
    },
    {
      "cell_type": "code",
      "source": [
        "y_pred = model.predict(X_test)\n",
        "y_pred"
      ],
      "metadata": {
        "colab": {
          "base_uri": "https://localhost:8080/"
        },
        "id": "GjBx4cFpRW3Q",
        "outputId": "92c4d4d7-06d0-4613-8581-253523360bf0"
      },
      "execution_count": null,
      "outputs": [
        {
          "output_type": "execute_result",
          "data": {
            "text/plain": [
              "array([ 5.13974095e+02,  4.73366457e+01,  2.18780457e+01,  1.72190618e+02,\n",
              "        1.09216793e+02,  2.89357437e+01,  5.95437371e+01,  1.87696650e+02,\n",
              "       -3.38018230e+01,  2.87325874e+01,  1.49511684e+01,  1.40628184e+02,\n",
              "        6.73364943e+01,  8.33101929e+01,  8.88577221e+01,  3.29160181e+01,\n",
              "        8.94343791e+01,  1.88343530e+02,  1.44287106e+02,  9.36305747e+01,\n",
              "        2.82308908e+01,  1.71884983e+02,  9.51386684e+01,  5.21570258e+02,\n",
              "        4.45029550e+01,  5.50745352e+01,  5.88024588e+01,  8.52115671e+01,\n",
              "       -2.81948319e+01,  5.94327860e+02,  1.02153986e+02,  5.23834618e+02,\n",
              "        2.97297528e+01,  5.93823522e+02,  1.05315784e+02,  1.26010749e+02,\n",
              "        9.21794995e+01,  1.47625319e+02,  3.95421476e+01,  4.10905131e+01,\n",
              "        9.33684663e+01,  8.93795853e+01,  3.22513371e+01,  9.25590085e+01,\n",
              "        8.74569136e+01,  2.30319412e+01,  8.49107423e+01,  5.42258184e+02,\n",
              "        1.45991160e+02,  6.28942171e+01,  1.47067627e+02,  4.04552020e+01,\n",
              "        1.58582432e+02,  1.12621719e+02,  1.34164418e+02,  3.36029238e+01,\n",
              "        1.46705368e+02,  1.69583789e+02,  3.95125705e+01,  9.10589546e+01,\n",
              "        3.49435554e+01,  3.54477080e+01,  7.71436768e+01,  3.77530586e+01,\n",
              "        1.62886097e+02,  1.55780420e+02,  1.82608582e+01, -1.66703511e+01,\n",
              "        6.31565919e+02,  1.62459841e+02,  6.87316228e+01,  2.74187827e+02,\n",
              "       -1.55239375e+00,  8.68169663e+01,  5.50648699e+00,  1.73542924e+02,\n",
              "        1.39562741e+02, -3.45372767e+01,  9.19678040e+01,  1.20136185e+02,\n",
              "        1.30021173e+02,  6.17167716e+02,  1.32112808e+02,  2.71359640e+01,\n",
              "        5.25025678e+02,  4.52100034e+02,  1.91299927e+02,  2.26049578e+01,\n",
              "        1.43140349e+02,  1.89830490e+02,  1.35502686e+02,  8.97244588e+01,\n",
              "        1.06652262e+02,  1.01485610e+02,  1.46610798e+02, -3.53701742e+01,\n",
              "        9.10352235e+01,  1.18970959e+02,  1.92911686e+02,  5.95046610e+02,\n",
              "       -1.68917344e+01,  1.75873680e+02,  6.71939648e+01,  1.23381946e+02,\n",
              "        4.52863310e+02,  6.35706684e+01,  6.03020497e+01,  2.21998503e+02,\n",
              "        8.80436478e+01,  9.51371408e+01,  1.57589509e+02,  1.51792737e+02,\n",
              "        9.37502124e+01,  4.99734414e+02,  1.21838874e+02,  8.90534063e+01,\n",
              "        2.55857728e+02,  1.54429107e+02, -5.88481720e+01,  2.20214306e+02,\n",
              "        1.71887579e+01,  1.46375772e+02,  1.27055012e+02,  5.60554117e+02,\n",
              "        2.40495305e+02,  4.23677755e+01,  1.61120644e+01,  1.41658493e+02,\n",
              "        9.07234638e+01, -3.43678778e+01,  1.51306829e+01,  2.03604167e+01,\n",
              "        7.47050652e+01,  3.03479727e+01,  4.27798049e+01,  5.64301248e+02,\n",
              "        5.18647118e+02,  9.53962503e+01,  1.81963959e+02,  8.48666072e+01,\n",
              "        3.32458408e+01,  2.22311920e+02, -9.49305361e+00, -1.76419790e+01,\n",
              "        6.87679122e+01,  7.60212430e+00,  1.80216602e+02,  1.38062856e+02,\n",
              "        4.75970517e+01,  4.19641866e+01,  8.20498745e+01,  4.20914859e+01,\n",
              "        3.07519324e+02,  1.95412656e+02, -2.49115335e+01,  1.73504975e+02,\n",
              "       -2.50497120e+01,  1.76893429e+02, -4.20280398e+01,  1.51302376e+02,\n",
              "        9.72496705e+01, -4.66291402e+01,  7.45447543e+01,  1.90017474e+01,\n",
              "        7.46313082e+01,  1.69514935e+02, -3.40726921e+01,  8.19660106e+01,\n",
              "        8.12698194e+01,  2.02441408e+01, -4.16430902e+01,  8.22975662e+01,\n",
              "        2.29871398e+01,  8.62628172e+01, -1.02978502e+01,  1.40422146e+02,\n",
              "        1.21075724e+02,  2.06377880e+01,  6.49138245e+01,  1.90237179e+02,\n",
              "        1.46016702e+02,  8.01933559e+01,  6.08547817e+01,  1.34224605e+02,\n",
              "        1.04721459e+02,  1.64901164e+02,  2.18885882e+00,  9.88909809e+01,\n",
              "        1.76186153e+02,  9.76939339e+01,  9.57307642e+01, -2.90631894e+01,\n",
              "        1.04541125e+02,  1.28373244e+02,  9.54485967e+01,  1.04651687e+02,\n",
              "        1.58995378e+02,  2.31083611e+01,  7.25991197e+01, -4.99535275e+00,\n",
              "        6.55160871e+01,  4.33673952e+02,  4.90891866e+01,  1.66549023e+01,\n",
              "        5.83912780e+00,  8.20130214e+01,  2.39953134e+01,  1.10939162e+02,\n",
              "        1.67358808e+02, -3.54655009e+01,  2.55010930e+02,  1.89721835e+02,\n",
              "        1.65973218e+02,  2.58211021e+01,  2.66667592e+03,  6.63479727e+01,\n",
              "        9.27849033e+01,  1.72890320e+02,  5.49482278e+02, -4.64887970e+01,\n",
              "        3.44373120e+01,  4.51092753e+02,  2.11376016e+02,  4.41539861e+01,\n",
              "        5.16108223e+01,  1.15938779e+02,  1.54352086e+02,  1.05128302e+02,\n",
              "        3.98270406e+01,  1.14859321e+02,  1.64464799e+02,  3.68099448e+01,\n",
              "        2.70260220e+02,  2.28793041e+01,  8.04651319e+01,  1.04779905e+02,\n",
              "        6.56834848e+01,  1.39995378e+02,  5.13729753e+02,  5.10605434e+01,\n",
              "        1.11237113e+02,  1.01388117e+02,  1.47623658e+02,  1.42324358e+02,\n",
              "        2.43083750e+02,  1.71181930e+02,  1.63060543e+02,  8.12543864e+01,\n",
              "        2.16619578e+02,  1.13899775e+02,  2.92169937e+01,  1.67809675e+02,\n",
              "        9.56255278e+01,  7.46671982e+01,  1.73353572e+01,  2.99882152e+01,\n",
              "        1.01861667e+02,  2.87326127e+02,  1.93651806e+02,  3.59218628e+01,\n",
              "        1.14390597e+02,  1.28252082e+02,  9.52163167e+01,  2.53970770e+01,\n",
              "        9.25643356e+01,  1.58500099e+02,  8.09174120e+01,  1.03075731e+02,\n",
              "        1.18255060e+02,  6.31031742e+01,  5.21552459e+02,  1.04495710e+02,\n",
              "        8.79963387e+01,  1.75466578e+02,  4.15287106e+02,  2.78928554e+01,\n",
              "        9.14207254e+01, -2.32012008e+01,  1.69681104e+02,  2.58571109e+01,\n",
              "        1.07254532e+02,  6.46439566e+01,  1.43486591e+02,  8.34782757e+01,\n",
              "        5.48528704e+01,  1.74610848e+02,  2.80316520e+02,  2.71190105e+01,\n",
              "        1.27169123e+02,  3.63221692e+01,  1.04574738e+02,  5.00052283e+02,\n",
              "        6.02635275e+01,  3.62153946e+01, -1.15313189e+00,  1.00744948e+02,\n",
              "       -5.05280909e+01,  5.21516866e+01,  1.72845993e+02,  5.00947125e+02,\n",
              "        9.80047580e+01,  3.49353144e+02,  2.55741402e+02,  9.50835206e+01,\n",
              "        9.19957752e+01,  1.06320300e+02,  1.13274146e+02,  4.01411056e+01,\n",
              "        1.67885930e+02,  1.29888385e+02, -4.83973558e+01,  4.30709618e+02,\n",
              "        8.86675367e+01,  5.84861071e+01,  1.49397398e+02,  1.80467638e+02,\n",
              "        1.67575924e+02,  9.00334594e+01,  4.67400620e+01,  1.63422231e+02,\n",
              "        1.28911612e+02,  1.94236037e+02,  1.65995305e+02,  1.57728723e+02,\n",
              "        6.90965994e+01,  4.62377057e+02,  7.04849140e+01,  4.57979301e+02,\n",
              "        2.02581008e+01,  1.47125271e+02, -6.02485185e+01,  5.42917253e+02,\n",
              "        9.04836675e+00, -6.65339477e+01,  3.59031424e+01,  2.64081283e+01,\n",
              "        9.56518060e+01,  3.71701630e+01,  2.69042904e+02,  8.06660350e+01,\n",
              "        6.95614304e+01,  1.14548952e+02,  1.45835357e+02,  3.35222547e+02,\n",
              "        1.61161009e+02,  4.44521496e+01,  1.01331149e+02,  1.62160473e+02,\n",
              "       -6.28744037e+01,  1.56719994e+02,  2.21072225e+02,  1.55232418e+02,\n",
              "        6.87357916e+01,  1.68094850e+02,  8.39603572e+01,  9.68309233e+01,\n",
              "        9.17903275e+02,  1.89200903e+02,  1.60089128e+02,  5.04388364e+02,\n",
              "        1.34559748e+02,  6.00393766e+02,  1.25891119e+02,  7.84649749e+01,\n",
              "        1.34883131e+02,  3.78664981e+01,  8.90371059e+01,  1.01440304e+02,\n",
              "        1.15485636e+02,  3.13084863e+01,  1.59299162e+02,  1.55917253e+02,\n",
              "        1.39969106e+02,  4.55896209e+02,  1.52256434e+02,  1.15604753e+02,\n",
              "        8.60546910e+01,  2.29205232e+02,  3.80013193e+01,  1.25149473e+02,\n",
              "        7.57131802e+01,  2.75259582e+01,  4.10109303e+01,  6.58547719e+01,\n",
              "        4.74854753e+02,  6.04789554e+01,  4.68141959e+00,  5.13684668e+02,\n",
              "        7.63600280e+00,  1.33539816e+02,  7.98625653e+01,  4.34102135e+02,\n",
              "        1.78363217e+02,  6.59932725e+01,  1.54173848e+02,  1.78857111e+02,\n",
              "        1.15114623e+02,  1.29154102e+02,  3.06715078e+02,  1.55894015e+02])"
            ]
          },
          "metadata": {},
          "execution_count": 30
        }
      ]
    },
    {
      "cell_type": "code",
      "source": [
        "##Linear regression accuracy\n",
        "\n",
        "from sklearn.metrics import r2_score\n",
        "\n",
        "r2_score(Y_test,y_pred)"
      ],
      "metadata": {
        "colab": {
          "base_uri": "https://localhost:8080/"
        },
        "id": "vzihMLKPuO1a",
        "outputId": "49185e5d-3cdd-43a1-8930-01be5dff3cec"
      },
      "execution_count": null,
      "outputs": [
        {
          "output_type": "stream",
          "name": "stdout",
          "text": [
            "Accuracy: 0.4552743075290442\n"
          ]
        },
        {
          "output_type": "execute_result",
          "data": {
            "text/plain": [
              "0.4552743075290442"
            ]
          },
          "metadata": {},
          "execution_count": 31
        }
      ]
    },
    {
      "cell_type": "code",
      "source": [
        "# Prediction model - Logistic regression -  nesaka "
      ],
      "metadata": {
        "id": "NSQLilgIRjQk"
      },
      "execution_count": null,
      "outputs": []
    },
    {
      "cell_type": "code",
      "source": [
        "#  Building Decision Tree Regression Model\n",
        "from sklearn.tree import DecisionTreeRegressor\n",
        "\n",
        "regressor = DecisionTreeRegressor()\n",
        "regressor.fit(X_train, Y_train)\n",
        "y_pred = regressor.predict(X_test)\n",
        "\n",
        "print(\"Accuracy:\",regressor.score(X_test, Y_test))"
      ],
      "metadata": {
        "colab": {
          "base_uri": "https://localhost:8080/"
        },
        "id": "G4bMrmrCvWws",
        "outputId": "0245f532-36f1-446c-c799-8d4a5334958c"
      },
      "execution_count": null,
      "outputs": [
        {
          "output_type": "stream",
          "name": "stdout",
          "text": [
            "Accuracy: 0.8996509112780425\n"
          ]
        }
      ]
    },
    {
      "cell_type": "markdown",
      "source": [
        "The decision tree regressor has proven to have better scores on the same training and testing data samples."
      ],
      "metadata": {
        "id": "EnNNzRJfviU2"
      }
    },
    {
      "cell_type": "code",
      "source": [
        "!pip install tpot\n"
      ],
      "metadata": {
        "id": "3LkuHlq-xz-B",
        "colab": {
          "base_uri": "https://localhost:8080/"
        },
        "outputId": "6966ed12-e6d3-485b-8832-1df59b8943dc"
      },
      "execution_count": null,
      "outputs": [
        {
          "output_type": "stream",
          "name": "stdout",
          "text": [
            "Looking in indexes: https://pypi.org/simple, https://us-python.pkg.dev/colab-wheels/public/simple/\n",
            "Requirement already satisfied: tpot in /usr/local/lib/python3.8/dist-packages (0.11.7)\n",
            "Requirement already satisfied: pandas>=0.24.2 in /usr/local/lib/python3.8/dist-packages (from tpot) (1.3.5)\n",
            "Requirement already satisfied: tqdm>=4.36.1 in /usr/local/lib/python3.8/dist-packages (from tpot) (4.64.1)\n",
            "Requirement already satisfied: xgboost>=1.1.0 in /usr/local/lib/python3.8/dist-packages (from tpot) (1.7.2)\n",
            "Requirement already satisfied: stopit>=1.1.1 in /usr/local/lib/python3.8/dist-packages (from tpot) (1.1.2)\n",
            "Requirement already satisfied: update-checker>=0.16 in /usr/local/lib/python3.8/dist-packages (from tpot) (0.18.0)\n",
            "Requirement already satisfied: scipy>=1.3.1 in /usr/local/lib/python3.8/dist-packages (from tpot) (1.7.3)\n",
            "Requirement already satisfied: scikit-learn>=0.22.0 in /usr/local/lib/python3.8/dist-packages (from tpot) (1.0.2)\n",
            "Requirement already satisfied: joblib>=0.13.2 in /usr/local/lib/python3.8/dist-packages (from tpot) (1.2.0)\n",
            "Requirement already satisfied: numpy>=1.16.3 in /usr/local/lib/python3.8/dist-packages (from tpot) (1.21.6)\n",
            "Requirement already satisfied: deap>=1.2 in /usr/local/lib/python3.8/dist-packages (from tpot) (1.3.3)\n",
            "Requirement already satisfied: python-dateutil>=2.7.3 in /usr/local/lib/python3.8/dist-packages (from pandas>=0.24.2->tpot) (2.8.2)\n",
            "Requirement already satisfied: pytz>=2017.3 in /usr/local/lib/python3.8/dist-packages (from pandas>=0.24.2->tpot) (2022.6)\n",
            "Requirement already satisfied: six>=1.5 in /usr/local/lib/python3.8/dist-packages (from python-dateutil>=2.7.3->pandas>=0.24.2->tpot) (1.15.0)\n",
            "Requirement already satisfied: threadpoolctl>=2.0.0 in /usr/local/lib/python3.8/dist-packages (from scikit-learn>=0.22.0->tpot) (3.1.0)\n",
            "Requirement already satisfied: requests>=2.3.0 in /usr/local/lib/python3.8/dist-packages (from update-checker>=0.16->tpot) (2.23.0)\n",
            "Requirement already satisfied: chardet<4,>=3.0.2 in /usr/local/lib/python3.8/dist-packages (from requests>=2.3.0->update-checker>=0.16->tpot) (3.0.4)\n",
            "Requirement already satisfied: idna<3,>=2.5 in /usr/local/lib/python3.8/dist-packages (from requests>=2.3.0->update-checker>=0.16->tpot) (2.10)\n",
            "Requirement already satisfied: certifi>=2017.4.17 in /usr/local/lib/python3.8/dist-packages (from requests>=2.3.0->update-checker>=0.16->tpot) (2022.12.7)\n",
            "Requirement already satisfied: urllib3!=1.25.0,!=1.25.1,<1.26,>=1.21.1 in /usr/local/lib/python3.8/dist-packages (from requests>=2.3.0->update-checker>=0.16->tpot) (1.24.3)\n"
          ]
        }
      ]
    },
    {
      "cell_type": "code",
      "source": [
        "from tpot import TPOTRegressor\n",
        "from sklearn.datasets import load_digits\n",
        "from sklearn.model_selection import train_test_split\n",
        "\n",
        "\n",
        "tpot = TPOTRegressor(generations=5, population_size=50, verbosity=2, random_state=42)\n",
        "tpot.fit(X_train, Y_train)\n",
        "\n",
        "print(tpot.score(X_test, Y_test))\n",
        "tpot.export('tpot_digits_pipeline.py')"
      ],
      "metadata": {
        "colab": {
          "base_uri": "https://localhost:8080/",
          "height": 243,
          "referenced_widgets": [
            "085b0ef873e34dc7bd6e1406fa18f05f",
            "86e9baac89954aa7a1681ef93861b88a",
            "17db248c24d049d09f87ab15b34e17be",
            "c9c9011f4a614386bd5686ad1a496534",
            "b0659e45b8c8434190404df16d0ad3e7",
            "f1319d1aafb84d10823ff300d973fd1b",
            "0a4fe36d39c74227a7071e8f54bfa5c0",
            "4941d278d7484662a29ca64ac3946a2e",
            "ea93e562d01d495d9cc4bdaed94db11f",
            "59c95f357163493b9846d512302e704c",
            "98ca73c61ba549b4a40ffa0a203f8d3b"
          ]
        },
        "id": "-MLJ22q5n9mq",
        "outputId": "2b5b0776-ee70-4ba1-de74-a8dbc70e9c07"
      },
      "execution_count": null,
      "outputs": [
        {
          "output_type": "display_data",
          "data": {
            "text/plain": [
              "Optimization Progress:   0%|          | 0/300 [00:00<?, ?pipeline/s]"
            ],
            "application/vnd.jupyter.widget-view+json": {
              "version_major": 2,
              "version_minor": 0,
              "model_id": "085b0ef873e34dc7bd6e1406fa18f05f"
            }
          },
          "metadata": {}
        },
        {
          "output_type": "stream",
          "name": "stdout",
          "text": [
            "\n",
            "Generation 1 - Current best internal CV score: -68732.23524621461\n",
            "\n",
            "Generation 2 - Current best internal CV score: -68732.23524621461\n",
            "\n",
            "Generation 3 - Current best internal CV score: -66119.89356394051\n",
            "\n",
            "Generation 4 - Current best internal CV score: -66119.89356394051\n",
            "\n",
            "Generation 5 - Current best internal CV score: -66119.89356394051\n",
            "\n",
            "Best pipeline: LassoLarsCV(XGBRegressor(input_matrix, learning_rate=0.1, max_depth=8, min_child_weight=2, n_estimators=100, n_jobs=1, objective=reg:squarederror, subsample=0.45, verbosity=0), normalize=False)\n",
            "-8891.999318271528\n"
          ]
        }
      ]
    },
    {
      "cell_type": "code",
      "source": [
        "#Better solution\n",
        "\n",
        "#Read the dataset\n",
        "import pandas as pd\n",
        "import numpy as np\n",
        "\n",
        "data=pd.read_csv('/content/drive/MyDrive/Data Science/lab/lab3/train.csv')\n",
        "data=data.iloc[:2000,:]\n",
        "data"
      ],
      "metadata": {
        "id": "OFEeygCpDQ3l"
      },
      "execution_count": null,
      "outputs": []
    },
    {
      "cell_type": "code",
      "source": [
        "data.drop(['BHK_OR_RK'], axis=1, inplace=True)"
      ],
      "metadata": {
        "id": "_fYM8feB5Jyv"
      },
      "execution_count": null,
      "outputs": []
    },
    {
      "cell_type": "code",
      "source": [
        "#Ordinal encoder for address and posted by\n",
        "# from sklearn.preprocessing import LabelEncoder\n",
        "\n",
        "# encoder=LabelEncoder()\n",
        "# data['ADDRESS'] = encoder.fit_transform(data['ADDRESS'])\n",
        "# data['POSTED_BY'] = encoder.fit_transform(data['POSTED_BY'])\n",
        "from sklearn.preprocessing import OrdinalEncoder\n",
        "\n",
        "encoder=OrdinalEncoder()\n",
        "encoder.fit(data.iloc[:, [0,7]])\n",
        "\n",
        "data.iloc[:, [0,7]] = encoder.transform(data.iloc[:, [0,7]])\n",
        "\n",
        "data.head()"
      ],
      "metadata": {
        "id": "hE9zZF5U5LsJ"
      },
      "execution_count": null,
      "outputs": []
    },
    {
      "cell_type": "code",
      "source": [
        "from sklearn.model_selection import train_test_split\n",
        "\n",
        "X_train, X_test, Y_train, Y_test = train_test_split(\n",
        "    data[data.columns[:-1]], data['TARGET(PRICE_IN_LACS)'],test_size=0.2)\n",
        "\n",
        "\n",
        "X_train"
      ],
      "metadata": {
        "id": "eoHSfJyb5Pmc"
      },
      "execution_count": null,
      "outputs": []
    },
    {
      "cell_type": "code",
      "source": [
        "#sklairanje\n",
        "\n",
        "from sklearn.preprocessing import StandardScaler\n",
        "scaler = StandardScaler()\n",
        "scaler.fit(X_train)\n",
        "\n",
        "X_train = scaler.transform(X_train)\n",
        "X_test = scaler.transform(X_test)"
      ],
      "metadata": {
        "id": "M1VR-RR45SvX"
      },
      "execution_count": null,
      "outputs": []
    },
    {
      "cell_type": "code",
      "source": [
        "#Buidling the model using linear regression\n",
        "#Training the model using lin regr\n",
        "\n",
        "from sklearn.linear_model import LinearRegression\n",
        "\n",
        "model = LinearRegression().fit(X_train, Y_train)\n",
        "\n",
        "r_sq = model.score(X_train, Y_train)\n",
        "\n",
        "print('coefficient of determination:', r_sq)\n",
        "\n",
        "print('intercept:', model.intercept_)\n",
        "\n",
        "print('slope:', model.coef_)"
      ],
      "metadata": {
        "id": "jKImIzoV5U_U"
      },
      "execution_count": null,
      "outputs": []
    },
    {
      "cell_type": "code",
      "source": [
        "y_pred = model.predict(X_test)\n",
        "y_pred"
      ],
      "metadata": {
        "id": "btZeVwNw5Xsq"
      },
      "execution_count": null,
      "outputs": []
    },
    {
      "cell_type": "code",
      "source": [
        "from sklearn.metrics import r2_score\n",
        "r2_score(Y_test,y_pred)"
      ],
      "metadata": {
        "id": "zIy3RBNA5bGg"
      },
      "execution_count": null,
      "outputs": []
    },
    {
      "cell_type": "code",
      "source": [
        "#Buiding Decision tree regression model\n",
        "\n",
        "from sklearn.tree import DecisionTreeRegressor\n",
        "\n",
        "regressor = DecisionTreeRegressor()\n",
        "\n",
        "regressor.fit(X_train, Y_train)\n",
        "\n",
        "y_pred = regressor.predict(X_test)"
      ],
      "metadata": {
        "id": "Wna0UAsb5bZ_"
      },
      "execution_count": null,
      "outputs": []
    },
    {
      "cell_type": "code",
      "source": [
        "print(\"Accuracy:\",regressor.score(X_test, Y_test))"
      ],
      "metadata": {
        "id": "PVW0AmYa5dle"
      },
      "execution_count": null,
      "outputs": []
    }
  ]
}